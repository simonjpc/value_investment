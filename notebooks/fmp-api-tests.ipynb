{
 "cells": [
  {
   "cell_type": "code",
   "execution_count": 7,
   "id": "1d4c8271-6ab6-4d05-b8b6-7ac08e98d98a",
   "metadata": {},
   "outputs": [],
   "source": [
    "import os\n",
    "from valuation.constants import API_BASE_PATH\n",
    "import requests"
   ]
  },
  {
   "cell_type": "code",
   "execution_count": 5,
   "id": "512b9b3c-f4ab-407e-8daf-b45de76d97e4",
   "metadata": {},
   "outputs": [],
   "source": [
    "KEY = os.environ[\"VALUATION_KEY\"]"
   ]
  },
  {
   "cell_type": "code",
   "execution_count": 10,
   "id": "9056d19a-48b8-4731-86bb-73e9017461ce",
   "metadata": {},
   "outputs": [],
   "source": [
    "ticker = \"IMOS\""
   ]
  },
  {
   "cell_type": "code",
   "execution_count": 11,
   "id": "7c7e196a-8e2d-4aa8-b951-1bbab240d057",
   "metadata": {},
   "outputs": [],
   "source": [
    "url_price = f\"{API_BASE_PATH}/quote/{ticker}\"\n",
    "\n",
    "params = {\n",
    "    \"apikey\": KEY,\n",
    "}\n",
    "response = requests.get(url_price, params=params)\n",
    "response.raise_for_status()  # Raise an exception for HTTP errors\n",
    "data_price = response.json()"
   ]
  },
  {
   "cell_type": "code",
   "execution_count": 12,
   "id": "96708821-8f0d-4bbe-bbba-6158e68b186d",
   "metadata": {},
   "outputs": [
    {
     "data": {
      "text/plain": [
       "[{'symbol': 'IMOS',\n",
       "  'name': 'ChipMOS TECHNOLOGIES INC.',\n",
       "  'price': 26.13,\n",
       "  'changesPercentage': -0.9101,\n",
       "  'change': -0.24,\n",
       "  'dayLow': 26.11,\n",
       "  'dayHigh': 26.75,\n",
       "  'yearHigh': 27.97,\n",
       "  'yearLow': 21.58,\n",
       "  'marketCap': 950139060,\n",
       "  'priceAvg50': 25.7182,\n",
       "  'priceAvg200': 24.53095,\n",
       "  'exchange': 'NASDAQ',\n",
       "  'volume': 13088,\n",
       "  'avgVolume': 12852,\n",
       "  'open': 26.55,\n",
       "  'previousClose': 26.37,\n",
       "  'eps': 2.99,\n",
       "  'pe': 8.74,\n",
       "  'earningsAnnouncement': '2024-02-22T05:00:00.000+0000',\n",
       "  'sharesOutstanding': 36362000,\n",
       "  'timestamp': 1704920400}]"
      ]
     },
     "execution_count": 12,
     "metadata": {},
     "output_type": "execute_result"
    }
   ],
   "source": [
    "data_price"
   ]
  },
  {
   "cell_type": "code",
   "execution_count": null,
   "id": "a31341ff-a616-4275-b71a-b3f07b05176f",
   "metadata": {},
   "outputs": [],
   "source": [
    "def get_current_price(ticker: str) -> float:\n",
    "    if not isinstance(ticker, str):\n",
    "        raise TypeError(\"`ticker` attribute must be a string\")\n",
    "    url_price = f\"{API_BASE_PATH}/quote/{ticker}\"\n",
    "    \n",
    "    params = {\n",
    "        \"limit\": 1,\n",
    "        \"apikey\": KEY,\n",
    "    }\n",
    "    \n",
    "    try:\n",
    "        response = requests.get(url_price, params=params)\n",
    "        response.raise_for_status()  # Raise an exception for HTTP errors\n",
    "        data_price = response.json()\n",
    "        \n",
    "        if data_price:\n",
    "            return data_price[0][\"price\"]\n",
    "    except requests.exceptions.RequestException as e:\n",
    "        print(f\"Request error: {e}\")\n",
    "    except ValueError as e:\n",
    "        print(f\"JSON decoding error: {e}\")\n",
    "    \n",
    "    return None"
   ]
  }
 ],
 "metadata": {
  "kernelspec": {
   "display_name": "value_investment",
   "language": "python",
   "name": "value_investment"
  },
  "language_info": {
   "codemirror_mode": {
    "name": "ipython",
    "version": 3
   },
   "file_extension": ".py",
   "mimetype": "text/x-python",
   "name": "python",
   "nbconvert_exporter": "python",
   "pygments_lexer": "ipython3",
   "version": "3.10.13"
  }
 },
 "nbformat": 4,
 "nbformat_minor": 5
}
