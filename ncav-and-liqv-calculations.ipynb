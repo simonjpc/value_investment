{
 "cells": [
  {
   "cell_type": "markdown",
   "id": "43abf9bf-f7ab-4c7d-8bb0-c811f22482dd",
   "metadata": {},
   "source": [
    "## Below the steps to identify the most promising stocks using the NCAV approach\n",
    "\n",
    "1. have an excel file with all the tickers extracted from a filter on tradingview\n",
    "2. load the tickers from the file and compute the ones having current assets > total liab\n",
    "3. filter out the ones not respecting condition 2\n",
    "4. compute the ncav(ps) and liqv(ps) of the last annual report\n",
    "5. create a flag column \"below ncav\" indicating whether the price is below ncavps\n",
    "6. create a flag column \"below liqv\" indicating whether the price is below liqvps\n",
    "7. create a flag column if both 5 and 6 are respected\n",
    "8. take the tickers respecting any of the condition 5, 6 or 7 and create the history plots\n",
    "9. Select by hand the most promising ones\n",
    "10. for the selected ones get the price to ncav ratio and price to liqv ratio\n",
    "11. Sort by any of the two and see the most promising tickers"
   ]
  },
  {
   "cell_type": "markdown",
   "id": "32cb5952-7bce-42a1-84ac-ef6a9f941e50",
   "metadata": {},
   "source": [
    "## Imports"
   ]
  },
  {
   "cell_type": "code",
   "execution_count": null,
   "id": "406c1278-3673-4c99-99f5-c9a96af538a0",
   "metadata": {},
   "outputs": [],
   "source": [
    "import certifi\n",
    "import json\n",
    "import pandas as pd\n",
    "import numpy as np\n",
    "from tqdm import tqdm\n",
    "import time\n",
    "import matplotlib.pyplot as plt\n",
    "from urllib.request import urlopen"
   ]
  },
  {
   "cell_type": "markdown",
   "id": "45893d0f-3c0c-4fb8-a416-a3035da33ff2",
   "metadata": {},
   "source": [
    "## Functions"
   ]
  },
  {
   "cell_type": "code",
   "execution_count": null,
   "id": "549d8a1c-67ac-42f0-bffb-d2417f6198e1",
   "metadata": {},
   "outputs": [],
   "source": [
    "def compute_prelim_ncav(deco):\n",
    "    return deco[\"totalCurrentAssets\"] - deco[\"totalLiabilities\"] > 0\n",
    "\n",
    "def fill_w_none(deco, key):\n",
    "    if key not in deco:\n",
    "        deco[key] = 0\n",
    "\n",
    "def get_price(deco):\n",
    "    return deco[\"price\"]\n",
    "\n",
    "def compute_ncav(deco) -> float:\n",
    "    return deco[\"totalCurrentAssets\"] - deco[\"totalLiabilities\"]\n",
    "\n",
    "def compute_liqv(deco, factors_deco) -> float:\n",
    "    fill_w_none(deco, \"cashAndCashEquivalents\")\n",
    "    fill_w_none(deco, \"netReceivables\")\n",
    "    fill_w_none(deco, \"inventory\")\n",
    "    fill_w_none(deco, \"propertyPlantEquipmentNet\")\n",
    "    return (\n",
    "        deco[\"cashAndCashEquivalents\"] +\n",
    "        factors_deco[\"receivables_factor\"]*deco[\"netReceivables\"] +\n",
    "        factors_deco[\"inventory_factor\"]*deco[\"inventory\"] +\n",
    "        factors_deco[\"ppe_factor\"]*deco[\"propertyPlantEquipmentNet\"] -\n",
    "        deco[\"totalLiabilities\"]\n",
    "    )\n",
    "\n",
    "def compute_ncavps(deco) -> float:\n",
    "    if deco[\"weightedAverageShsOutDil\"] == 0:\n",
    "        return -np.Inf\n",
    "    ncav = compute_ncav(deco)\n",
    "    return ncav / deco[\"weightedAverageShsOutDil\"]\n",
    "\n",
    "def compute_liqvps(deco, factors_deco) -> float:\n",
    "    if deco[\"weightedAverageShsOutDil\"] == 0:\n",
    "        return -np.Inf\n",
    "    liqv = compute_liqv(deco, factors_deco)\n",
    "    return liqv / deco[\"weightedAverageShsOutDil\"]\n",
    "\n",
    "def compute_current_ratio(deco) -> float:\n",
    "    return deco[\"totalCurrentAssets\"] / (deco[\"totalCurrentLiabilities\"] + 0.1)\n",
    "\n",
    "def compute_de_ratio1(deco) -> float:\n",
    "    return deco[\"totalLiabilities\"] / (deco[\"totalStockholdersEquity\"] + 0.1)\n",
    "\n",
    "def compute_de_ratio2(deco) -> float:\n",
    "    return deco[\"totalCurrentLiabilities\"] / (deco[\"totalStockholdersEquity\"] + 0.1)\n",
    "\n",
    "def compute_de_ratio3(deco) -> float:\n",
    "    return deco[\"totalDebt\"] / (deco[\"totalStockholdersEquity\"] + 0.1)\n",
    "\n",
    "def plot_indicators(df: pd.DataFrame) -> None:\n",
    "    fig, ax = plt.subplots(1, 11, figsize=(30, 2))\n",
    "    fs_df[\"ncavps\"].plot.bar(ax=ax[0], title = \"ncavps\")\n",
    "    df[\"liqvps\"].plot.bar(ax=ax[1], title = \"liqvps\")\n",
    "    df[\"totalCurrentAssets\"].plot.bar(ax=ax[2], title = \"current assets\")\n",
    "    df[\"totalCurrentLiabilities\"].plot.bar(ax=ax[3], title = \"current liab\")\n",
    "    min_ylim, max_ylim = (\n",
    "        min(df[\"totalCurrentAssets\"].min(), df[\"totalCurrentLiabilities\"].min()),\n",
    "        max(df[\"totalCurrentAssets\"].max(), df[\"totalCurrentLiabilities\"].max())\n",
    "    )\n",
    "    ax[2].set_ylim([min_ylim, max_ylim])\n",
    "    ax[3].set_ylim([min_ylim, max_ylim])\n",
    "    del min_ylim\n",
    "    del max_ylim\n",
    "    df[\"current_ratio\"].plot.bar(ax=ax[4], title = \"current ratio\")\n",
    "    df[\"totalAssets\"].plot.bar(ax=ax[5], title = \"total assets\")\n",
    "    df[\"totalLiabilities\"].plot.bar(ax=ax[6], title = \"total liab\")\n",
    "    min_ylim, max_ylim = (\n",
    "        min(df[\"totalAssets\"].min(), df[\"totalLiabilities\"].min()),\n",
    "        max(df[\"totalAssets\"].max(), df[\"totalLiabilities\"].max())\n",
    "    )\n",
    "    ax[5].set_ylim([min_ylim, max_ylim])\n",
    "    ax[6].set_ylim([min_ylim, max_ylim])\n",
    "    del min_ylim\n",
    "    del max_ylim\n",
    "    df[\"weightedAverageShsOutDil\"].plot.bar(ax=ax[7], title = \"shares outs\")\n",
    "    df[\"de_ratio1\"].plot.bar(ax=ax[8], title = \"total liab / shares outs\")\n",
    "    df[\"de_ratio2\"].plot.bar(ax=ax[9], title = \"current liab / shares outs\")\n",
    "    df[\"de_ratio3\"].plot.bar(ax=ax[10], title = \"total debt / shares outs\")\n",
    "    min_ylim, max_ylim = (\n",
    "        min(df[\"de_ratio1\"].min(), df[\"de_ratio2\"].min(), df[\"de_ratio3\"].min()),\n",
    "        max(df[\"de_ratio1\"].max(), df[\"de_ratio2\"].max(), df[\"de_ratio3\"].max())\n",
    "    )\n",
    "    ax[8].set_ylim([min_ylim, max_ylim])\n",
    "    ax[9].set_ylim([min_ylim, max_ylim])\n",
    "    ax[10].set_ylim([min_ylim, max_ylim])\n",
    "    del min_ylim\n",
    "    del max_ylim\n",
    "    plt.show()"
   ]
  },
  {
   "cell_type": "markdown",
   "id": "d543c85e-152d-4fd1-a8e4-3fa6850c7c90",
   "metadata": {},
   "source": [
    "## Constants"
   ]
  },
  {
   "cell_type": "code",
   "execution_count": null,
   "id": "226bcd40-e721-4383-a0c9-6f799c27b445",
   "metadata": {},
   "outputs": [],
   "source": [
    "KEY_PATH = \"fmi-personal-key.txt\"\n",
    "with open(KEY_PATH, \"r\") as f:\n",
    "    KEY = f.read()"
   ]
  },
  {
   "cell_type": "code",
   "execution_count": null,
   "id": "485376d0-f856-4620-aebb-2bd19c9b401f",
   "metadata": {},
   "outputs": [],
   "source": [
    "factors = {\n",
    "    \"receivables_factor\": 0.8,\n",
    "    \"inventory_factor\": 0.6,\n",
    "    \"ppe_factor\": 0.67,\n",
    "}"
   ]
  },
  {
   "cell_type": "code",
   "execution_count": null,
   "id": "c3ff5c9e-8a10-4e5a-aef9-3feb3ebc7d82",
   "metadata": {},
   "outputs": [],
   "source": [
    "bs_cols = [\n",
    "    \"symbol\", \"cashAndCashEquivalents\", \"netReceivables\",\n",
    "    \"inventory\", \"propertyPlantEquipmentNet\",\n",
    "    \"totalCurrentAssets\", \"totalAssets\", \"totalCurrentLiabilities\", \n",
    "    \"totalLiabilities\", \"totalStockholdersEquity\",\n",
    "    \"totalDebt\", \"netDebt\",\n",
    "]\n",
    "is_cols = [\n",
    "    \"weightedAverageShsOutDil\",\n",
    "]"
   ]
  },
  {
   "cell_type": "markdown",
   "id": "066f68b3-414d-42bc-9c6c-f3012135e8aa",
   "metadata": {},
   "source": [
    "# Load tickers"
   ]
  },
  {
   "cell_type": "code",
   "execution_count": null,
   "id": "69d43751-e083-4d50-9560-4d9eb6b01cc4",
   "metadata": {},
   "outputs": [],
   "source": [
    "with open(\"tickers_list_28062023.txt\", \"r\") as f:\n",
    "    TICKERS = f.read().split(\"\\n\")"
   ]
  },
  {
   "cell_type": "code",
   "execution_count": null,
   "id": "200efa24-7592-438f-9ad9-1227d9073a0a",
   "metadata": {},
   "outputs": [],
   "source": [
    "# this will get rid of duplicated tickers.\n",
    "# THis means there will only be one ticker for different companies having the same symbol in different exchanges\n",
    "TICKERS = list(set(TICKERS))"
   ]
  },
  {
   "cell_type": "markdown",
   "id": "afc7b9a9-6a0c-43a9-bde7-5f90f18085b5",
   "metadata": {},
   "source": [
    "Below we compute the preliminary NCAV (current assets - total_liabilities). By doing this we strictly focus ourselves in filtering out the companies that will for sure not have a positive NCAV\n",
    "We will filter out the companies that don't have a positive preliminary NCAV\n",
    "On the rest of the accepted companies we will flag those having a current price below ncav, current price below liqv and current price below both ncav and liqv"
   ]
  },
  {
   "cell_type": "code",
   "execution_count": null,
   "id": "85f11c3f-9cd0-45e2-93c0-5b6cd3547b54",
   "metadata": {
    "tags": []
   },
   "outputs": [],
   "source": [
    "%%time\n",
    "# NEW CODE\n",
    "# compute preliminary ncav (current assets - total liabilities)\n",
    "preliminary_ncav = {}\n",
    "zero_current_price = []\n",
    "missed_ticker = []\n",
    "tickers_to_accept = []\n",
    "notes = {}\n",
    "\n",
    "for ticker in tqdm(TICKERS):\n",
    "    \n",
    "    url_balance_sheet = f\"https://financialmodelingprep.com/api/v3/balance-sheet-statement/{ticker}?limit=1&apikey={KEY}\"\n",
    "    url_income_stmt = f\"https://financialmodelingprep.com/api/v3/income-statement/{ticker}?limit=1&apikey={KEY}\"\n",
    "    url_price = f\"https://financialmodelingprep.com/api/v3/quote/{ticker}?limit=1&apikey={KEY}\"\n",
    "    \n",
    "    try:\n",
    "        response_balance_sheet = urlopen(url_balance_sheet, cafile=certifi.where())\n",
    "        response_price = urlopen(url_price, cafile=certifi.where())\n",
    "    except:\n",
    "        missed_ticker.append(ticker)\n",
    "        continue\n",
    "    \n",
    "    data_balance_sheet = response_balance_sheet.read().decode(\"utf-8\")\n",
    "    data_balance_sheet = json.loads(data_balance_sheet)\n",
    "    if len(data_balance_sheet) == 0:\n",
    "        continue # here we should log the ticker with this issue\n",
    "    data_balance_sheet = data_balance_sheet[-1]\n",
    "    flag = compute_prelim_ncav(data_balance_sheet)\n",
    "    data_price = response_price.read().decode(\"utf-8\")\n",
    "    data_price = json.loads(data_price)\n",
    "    if len(data_price) == 0:\n",
    "        continue # here we should log the ticker with this issue\n",
    "    data_price = data_price[-1]\n",
    "    current_price = data_price[\"price\"]\n",
    "    if flag:\n",
    "        \n",
    "        tickers_to_accept.append(ticker)\n",
    "        response_income_stmt = urlopen(url_income_stmt, cafile=certifi.where())\n",
    "        data_income_stmt = response_income_stmt.read().decode(\"utf-8\")\n",
    "        data_income_stmt = json.loads(data_income_stmt)\n",
    "        if len(data_income_stmt) == 0:\n",
    "            continue # here we should log the ticker with this issue\n",
    "        data_income_stmt = data_income_stmt[-1]\n",
    "        data_balance_sheet.update(\n",
    "            {\n",
    "                \"weightedAverageShsOutDil\": data_income_stmt[\"weightedAverageShsOutDil\"],\n",
    "                \"income_stmt_date\": data_income_stmt[\"date\"],\n",
    "            }\n",
    "        )\n",
    "        if data_balance_sheet[\"date\"] != data_balance_sheet[\"income_stmt_date\"]:\n",
    "            print(f\"dates of last income statement and balance sheet are not the same for ticker {ticker}\")\n",
    "            print(f\"\\tincome stmt date: {data_balance_sheet['income_stmt_date']}, balance sheet date: {data_balance_sheet['date']}\")\n",
    "            continue\n",
    "            \n",
    "        ncavps = compute_ncavps(data_balance_sheet)\n",
    "        liqvps = compute_liqvps(data_balance_sheet, factors)\n",
    "        if current_price is None : \n",
    "            zero_current_price.append(ticker)\n",
    "            continue\n",
    "        notes[ticker] = {\n",
    "            \"current_price\": current_price,\n",
    "            \"below_ncav\": current_price < ncavps,\n",
    "            \"below_liqv\": current_price < liqvps,\n",
    "        }"
   ]
  },
  {
   "cell_type": "markdown",
   "id": "36f2e97e-8f9e-4046-b285-19735b0cb0ac",
   "metadata": {},
   "source": [
    "Transform dict into pandas and add \"below_both\" and \"below_none\" cols. below_both is a flag that tells whether the current price is below both ncav and liqv. below_none is a flag that tells whether the current price is above both ncav and liqv. "
   ]
  },
  {
   "cell_type": "code",
   "execution_count": null,
   "id": "35eaa750-0d73-41f9-aa1a-15841f455ab9",
   "metadata": {},
   "outputs": [],
   "source": [
    "price_to_liquid_df = pd.DataFrame(notes).T\n",
    "price_to_liquid_df[\"below_both\"] = price_to_liquid_df.apply(lambda x: x[\"below_ncav\"] and x[\"below_liqv\"], axis=1)\n",
    "price_to_liquid_df[\"below_none\"] = price_to_liquid_df.apply(lambda x: x[\"below_ncav\"] == False and x[\"below_liqv\"] == False, axis=1)\n",
    "price_to_liquid_df.sample(5)"
   ]
  },
  {
   "cell_type": "markdown",
   "id": "2d4f30db-72ee-485e-bcdb-7e1537b96b89",
   "metadata": {},
   "source": [
    "We filter out the rows having a `below_none` value of True. This represents the rows where the company's current price is above both ncav and liqv"
   ]
  },
  {
   "cell_type": "code",
   "execution_count": null,
   "id": "8b56bc39-dee0-4723-a6a4-4c25a90dcfbc",
   "metadata": {},
   "outputs": [],
   "source": [
    "price_to_liquid_df = price_to_liquid_df.loc[price_to_liquid_df[\"below_none\"] != True]\n",
    "price_to_liquid_df.shape"
   ]
  },
  {
   "cell_type": "code",
   "execution_count": null,
   "id": "47692a12-e8ed-4f15-899a-d85d2e998276",
   "metadata": {},
   "outputs": [],
   "source": [
    "len(tickers_to_accept)"
   ]
  },
  {
   "cell_type": "code",
   "execution_count": null,
   "id": "60d6bc52-d068-432a-96cd-d7a16ccfd6d8",
   "metadata": {},
   "outputs": [],
   "source": [
    "selected_tickers = list(price_to_liquid_df.index)"
   ]
  },
  {
   "cell_type": "markdown",
   "id": "c4c36918-582d-4ed4-b274-ab2503937c6c",
   "metadata": {},
   "source": [
    "* cashAndCashEquivalents\n",
    "* netReceivables\n",
    "* inventory\n",
    "* propertyPlantEquipmentNet\n",
    "* totalCurrentAssets\n",
    "* totalLiabilities"
   ]
  },
  {
   "cell_type": "markdown",
   "id": "3408bda9-c930-47d3-90f0-99404c495677",
   "metadata": {
    "tags": []
   },
   "source": [
    "### The following values will be computed/extracted over a 10 year period:\n",
    "\n",
    "- NCAV\n",
    "- LIQV\n",
    "- Current Assets\n",
    "- Current Liab\n",
    "- Current Ratio\n",
    "- Total Assets\n",
    "- Total Liabs\n",
    "- Shares outstanding\n",
    "- Total Liab / Total Shareholders' Equity (D/E ratio 1)\n",
    "- Current Liab / Total Shareholders' Equity (D/E ratio 2)\n",
    "- Total debt / Total Shareholders' Equity (D/E ratio 3)\n",
    "- date"
   ]
  },
  {
   "cell_type": "code",
   "execution_count": null,
   "id": "c7658400-0c50-4a76-ad9a-5df68761da2b",
   "metadata": {},
   "outputs": [],
   "source": [
    "%%time\n",
    "missed_tickers = []\n",
    "full_df = pd.DataFrame()\n",
    "for ticker in selected_tickers:\n",
    "        \n",
    "    data_income_stmt = get_income_stmt_info(ticker=ticker, nb_years=10)\n",
    "    data_balance_sheet = get_balance_sheet_info(ticker=ticker, nb_years=10)\n",
    "\n",
    "    if len(data_balance_sheet) == 0 or len(data_income_stmt) == 0:\n",
    "        print(\"length equals zero\")\n",
    "        missing_tickers.append(ticker)\n",
    "\n",
    "    if len(data_balance_sheet) < 5 or len(data_income_stmt) < 5:\n",
    "        print(\"less than 5 reports\")\n",
    "        time.sleep(1)\n",
    "        continue\n",
    "\n",
    "    balance_sheet_df = pd.DataFrame(data_balance_sheet)\n",
    "    income_stmt_df = pd.DataFrame(data_income_stmt)\n",
    "    balance_sheet_df = balance_sheet_df.set_index(\"date\")\n",
    "    income_stmt_df = income_stmt_df.set_index(\"date\")\n",
    "    balance_sheet_df = balance_sheet_df[bs_cols]\n",
    "    income_stmt_df = income_stmt_df[is_cols]\n",
    "    \n",
    "    try:\n",
    "        fs_df = pd.concat([balance_sheet_df, income_stmt_df], axis=1, join=\"inner\")\n",
    "    except:\n",
    "        print(\"dates incoherence\")\n",
    "        continue\n",
    "    \n",
    "    fs_df = fs_df.iloc[::-1] # from oldest to newest\n",
    "    # compute NCAV\n",
    "    fs_df[\"ncavps\"] = fs_df.apply(compute_ncavps, axis=1)\n",
    "    # compute LIQV\n",
    "    fs_df[\"liqvps\"] = fs_df.apply(compute_liqvps, args=(factors,), axis=1)\n",
    "    # compute current ratio\n",
    "    fs_df[\"current_ratio\"] = fs_df.apply(compute_current_ratio, axis=1)\n",
    "    # compute de ratio 1\n",
    "    fs_df[\"de_ratio1\"] = fs_df.apply(compute_de_ratio1, axis=1)\n",
    "    # compute de ratio 2\n",
    "    fs_df[\"de_ratio2\"] = fs_df.apply(compute_de_ratio2, axis=1)\n",
    "    # compute de ratio 3\n",
    "    fs_df[\"de_ratio3\"] = fs_df.apply(compute_de_ratio3, axis=1)\n",
    "\n",
    "    # plot indicators\n",
    "    print(ticker)\n",
    "    plot_indicators(fs_df)\n",
    "\n",
    "    full_df = pd.concat([full_df, fs_df.tail(1)])\n",
    "\n",
    "    time.sleep(1)"
   ]
  },
  {
   "cell_type": "code",
   "execution_count": null,
   "id": "7cf7521d-53da-4b2f-827e-b70d72cb3a14",
   "metadata": {
    "tags": []
   },
   "outputs": [],
   "source": [
    "%%time\n",
    "missed_tickers = []\n",
    "full_df = pd.DataFrame()\n",
    "for ticker in selected_tickers:\n",
    "    # define urls\n",
    "    url_balance_sheet = f\"https://financialmodelingprep.com/api/v3/balance-sheet-statement/{ticker}?limit=10&apikey={KEY}\"\n",
    "    url_income_stmt = f\"https://financialmodelingprep.com/api/v3/income-statement/{ticker}?limit=10&apikey={KEY}\"\n",
    "\n",
    "    try:\n",
    "        # load data\n",
    "        response_balance_sheet = urlopen(url_balance_sheet, cafile=certifi.where())\n",
    "        response_income_stmt = urlopen(url_income_stmt, cafile=certifi.where())\n",
    "    except:\n",
    "        missed_tickers.append(ticker)\n",
    "        \n",
    "    data_balance_sheet = response_balance_sheet.read().decode(\"utf-8\")\n",
    "    data_balance_sheet = json.loads(data_balance_sheet)\n",
    "    if len(data_balance_sheet) < 5:\n",
    "        continue\n",
    "\n",
    "    data_income_stmt = response_income_stmt.read().decode(\"utf-8\")\n",
    "    data_income_stmt = json.loads(data_income_stmt)\n",
    "    if len(data_income_stmt) < 5:\n",
    "        continue\n",
    "        \n",
    "    balance_sheet_df = pd.DataFrame(data_balance_sheet)\n",
    "    income_stmt_df = pd.DataFrame(data_income_stmt)\n",
    "    balance_sheet_df = balance_sheet_df.set_index(\"date\")\n",
    "    income_stmt_df = income_stmt_df.set_index(\"date\")\n",
    "    balance_sheet_df = balance_sheet_df[bs_cols]\n",
    "    income_stmt_df = income_stmt_df[is_cols]\n",
    "\n",
    "    fs_df = pd.concat([balance_sheet_df, income_stmt_df], axis=1, join=\"inner\")\n",
    "    fs_df = fs_df.iloc[::-1] # from oldest to newest\n",
    "    # compute NCAV\n",
    "    fs_df[\"ncavps\"] = fs_df.apply(compute_ncavps, axis=1)\n",
    "    # compute LIQV\n",
    "    fs_df[\"liqvps\"] = fs_df.apply(compute_liqvps, args=(factors,), axis=1)\n",
    "    # compute current ratio\n",
    "    fs_df[\"current_ratio\"] = fs_df.apply(compute_current_ratio, axis=1)\n",
    "    # compute de ratio 1\n",
    "    fs_df[\"de_ratio1\"] = fs_df.apply(compute_de_ratio1, axis=1)\n",
    "    # compute de ratio 2\n",
    "    fs_df[\"de_ratio2\"] = fs_df.apply(compute_de_ratio2, axis=1)\n",
    "    # compute de ratio 3\n",
    "    fs_df[\"de_ratio3\"] = fs_df.apply(compute_de_ratio3, axis=1)\n",
    "\n",
    "    # plot indicators\n",
    "    print(ticker)\n",
    "    plot_indicators(fs_df)\n",
    "\n",
    "    full_df = pd.concat([full_df, fs_df.tail(1)])\n",
    "\n",
    "    time.sleep(1)"
   ]
  },
  {
   "cell_type": "markdown",
   "id": "62970709-b528-4d3b-8ca3-1ff4a8afe1d1",
   "metadata": {
    "jp-MarkdownHeadingCollapsed": true,
    "tags": []
   },
   "source": [
    "### Good-looking stocks"
   ]
  },
  {
   "cell_type": "code",
   "execution_count": null,
   "id": "10288e6b-e84e-4780-a78a-709ba0b49f50",
   "metadata": {
    "tags": []
   },
   "outputs": [],
   "source": [
    "# stocks selected by hand after visualization of the previous plots\n",
    "selection = [\n",
    "    \"WILC\",\n",
    "    \"HURC\",\n",
    "    \"UFI\",\n",
    "    \"UEIC\",\n",
    "    \"STRT\",\n",
    "    \"CNRD\",\n",
    "    #\"JRSH\",\n",
    "    \"JCTCF\",\n",
    "    \"PFHO\",\n",
    "    \"BNSO\",\n",
    "    \"SSY\",\n",
    "]"
   ]
  },
  {
   "cell_type": "code",
   "execution_count": null,
   "id": "ac55ab91-32e9-400a-8869-a5f6ca4d533f",
   "metadata": {},
   "outputs": [],
   "source": [
    "price_df = price_to_liquid_df.loc[selection, [\"current_price\"]]\n",
    "price_df"
   ]
  },
  {
   "cell_type": "code",
   "execution_count": null,
   "id": "b4f9e3da-f950-4750-9118-28006fe2d606",
   "metadata": {},
   "outputs": [],
   "source": [
    "selection_df = full_df[full_df[\"symbol\"].isin(selection)].reset_index().set_index(\"symbol\")\n",
    "selection_df"
   ]
  },
  {
   "cell_type": "code",
   "execution_count": null,
   "id": "b099e741-65d5-4012-9823-156fda13287a",
   "metadata": {
    "tags": []
   },
   "outputs": [],
   "source": [
    "selection_resumed_df = pd.concat([price_df, selection_df[[\"ncavps\", \"liqvps\", \"current_ratio\", \"de_ratio1\", \"de_ratio2\", \"de_ratio3\", \"date\"]]], axis=1, join=\"inner\")"
   ]
  },
  {
   "cell_type": "code",
   "execution_count": null,
   "id": "6ed9032e-ff29-4bf9-a619-a2f1aca875e6",
   "metadata": {},
   "outputs": [],
   "source": [
    "selection_resumed_df[\"price_to_ncav\"] = selection_resumed_df[\"current_price\"] / selection_resumed_df[\"ncavps\"]\n",
    "selection_resumed_df[\"price_to_liqv\"] = selection_resumed_df[\"current_price\"] / selection_resumed_df[\"liqvps\"]"
   ]
  },
  {
   "cell_type": "code",
   "execution_count": null,
   "id": "4313e7b3-b5c6-453e-b746-7910aa9cae7e",
   "metadata": {},
   "outputs": [],
   "source": [
    "selection_resumed_df.sort_values(by=\"price_to_ncav\")"
   ]
  },
  {
   "cell_type": "code",
   "execution_count": null,
   "id": "ec868772-afa2-41c1-82c5-c012f69cb0c8",
   "metadata": {},
   "outputs": [],
   "source": [
    "selection_resumed_df.sort_values(by=\"price_to_liqv\")"
   ]
  },
  {
   "cell_type": "markdown",
   "id": "4f3313dc-28cc-4a52-af3b-ebef846532c8",
   "metadata": {
    "jp-MarkdownHeadingCollapsed": true,
    "tags": []
   },
   "source": [
    "### Stocks I'm curious about"
   ]
  },
  {
   "cell_type": "code",
   "execution_count": null,
   "id": "c979d672-1ed9-4c00-aa0a-9b2fa3a253b4",
   "metadata": {},
   "outputs": [],
   "source": [
    "# stocks selected by hand after visualization of the previous plots\n",
    "snd_selection = [\n",
    "    \"GIFI\",\n",
    "    \"ADES\",\n",
    "    \"UTSI\",\n",
    "    \"NTWK\",\n",
    "    \"GIGM\",\n",
    "    \"MSN\",\n",
    "    \"WAFU\",\n",
    "    \"JVA\",\n",
    "    \"EVOL\",\n",
    "    \"QBAK\",\n",
    "]"
   ]
  },
  {
   "cell_type": "code",
   "execution_count": null,
   "id": "e3819c81-7f20-417d-9889-4dce5c7151b6",
   "metadata": {},
   "outputs": [],
   "source": [
    "snd_price_df = price_to_liquid_df.loc[snd_selection, [\"current_price\"]]\n",
    "snd_price_df"
   ]
  },
  {
   "cell_type": "code",
   "execution_count": null,
   "id": "9ea3f3f0-946b-424a-94fd-57bb5ca8cf8a",
   "metadata": {},
   "outputs": [],
   "source": [
    "snd_selection_df = full_df[full_df[\"symbol\"].isin(snd_selection)].reset_index().set_index(\"symbol\")\n",
    "snd_selection_df"
   ]
  },
  {
   "cell_type": "code",
   "execution_count": null,
   "id": "9c82e405-11f2-4c3a-8181-d37e8c004623",
   "metadata": {
    "tags": []
   },
   "outputs": [],
   "source": [
    "snd_selection_resumed_df = pd.concat([snd_price_df, snd_selection_df[[\"ncavps\", \"liqvps\", \"current_ratio\", \"de_ratio1\", \"de_ratio2\", \"de_ratio3\", \"date\"]]], axis=1, join=\"inner\")"
   ]
  },
  {
   "cell_type": "code",
   "execution_count": null,
   "id": "0174049d-3d9a-4579-bc3f-333e656fb280",
   "metadata": {},
   "outputs": [],
   "source": [
    "snd_selection_resumed_df[\"price_to_ncav\"] = snd_selection_resumed_df[\"current_price\"] / snd_selection_resumed_df[\"ncavps\"]\n",
    "snd_selection_resumed_df[\"price_to_liqv\"] = snd_selection_resumed_df[\"current_price\"] / snd_selection_resumed_df[\"liqvps\"]"
   ]
  },
  {
   "cell_type": "code",
   "execution_count": null,
   "id": "a705c774-28e4-4963-9750-6bb8c369f0e3",
   "metadata": {},
   "outputs": [],
   "source": [
    "snd_selection_resumed_df.sort_values(by=\"price_to_ncav\")"
   ]
  },
  {
   "cell_type": "code",
   "execution_count": null,
   "id": "872bc0f4-2b8c-462f-808b-a71211216a3e",
   "metadata": {},
   "outputs": [],
   "source": [
    "snd_selection_resumed_df.sort_values(by=\"price_to_liqv\")"
   ]
  },
  {
   "cell_type": "markdown",
   "id": "12b4fb35-6558-44b8-8a2b-236b063340bd",
   "metadata": {
    "jp-MarkdownHeadingCollapsed": true,
    "tags": []
   },
   "source": [
    "### New Interesting Stocks"
   ]
  },
  {
   "cell_type": "code",
   "execution_count": null,
   "id": "4bd48822-d1ba-40ec-b43e-1e3ceb3ac7a3",
   "metadata": {},
   "outputs": [],
   "source": [
    "thd_selection = [\n",
    "    \"CSTE\",\n",
    "    \"CNRD\",\n",
    "    \"GIFI\",\n",
    "    \"UTSI\",\n",
    "    \"GURE\",\n",
    "    \"GIGM\",\n",
    "    \"MSN\",\n",
    "    \"JVA\",\n",
    "    \"QBAK\",\n",
    "]"
   ]
  },
  {
   "cell_type": "code",
   "execution_count": null,
   "id": "03ce6396-83b1-4b66-b2f3-339430a47dd2",
   "metadata": {},
   "outputs": [],
   "source": [
    "thd_price_df = price_to_liquid_df.loc[thd_selection, [\"current_price\"]]\n",
    "thd_price_df"
   ]
  },
  {
   "cell_type": "code",
   "execution_count": null,
   "id": "513e945a-3c07-4bd1-8e8f-f12a1d4bff3a",
   "metadata": {},
   "outputs": [],
   "source": [
    "thd_selection_df = full_df[full_df[\"symbol\"].isin(thd_selection)].reset_index().set_index(\"symbol\")\n",
    "thd_selection_df"
   ]
  },
  {
   "cell_type": "code",
   "execution_count": null,
   "id": "cecc61a8-6356-4ac4-b25c-5b625bed6f1c",
   "metadata": {},
   "outputs": [],
   "source": [
    "thd_selection_resumed_df = pd.concat([thd_price_df, thd_selection_df[[\"ncavps\", \"liqvps\", \"current_ratio\", \"de_ratio1\", \"de_ratio2\", \"de_ratio3\", \"date\"]]], axis=1, join=\"inner\")"
   ]
  },
  {
   "cell_type": "code",
   "execution_count": null,
   "id": "07b0b550-8c6e-4813-b3cc-d273190315a2",
   "metadata": {},
   "outputs": [],
   "source": [
    "thd_selection_resumed_df[\"price_to_ncav\"] = thd_selection_resumed_df[\"current_price\"] / thd_selection_resumed_df[\"ncavps\"]\n",
    "thd_selection_resumed_df[\"price_to_liqv\"] = thd_selection_resumed_df[\"current_price\"] / thd_selection_resumed_df[\"liqvps\"]"
   ]
  },
  {
   "cell_type": "code",
   "execution_count": null,
   "id": "cc0ed067-0184-4608-8bdb-0f5a3b253007",
   "metadata": {},
   "outputs": [],
   "source": [
    "thd_selection_resumed_df.sort_values(by=\"price_to_ncav\")"
   ]
  },
  {
   "cell_type": "code",
   "execution_count": null,
   "id": "e4402634-4459-47db-8808-87cc42d6ce6f",
   "metadata": {},
   "outputs": [],
   "source": [
    "thd_selection_resumed_df.sort_values(by=\"price_to_liqv\")"
   ]
  },
  {
   "cell_type": "markdown",
   "id": "178a54be-ae40-4edb-a1d2-fb824b41d527",
   "metadata": {
    "tags": []
   },
   "source": [
    "### Attractive international stocks accepted by FMP API"
   ]
  },
  {
   "cell_type": "code",
   "execution_count": null,
   "id": "51be9909-2fa6-4934-9709-c5b50f41560b",
   "metadata": {},
   "outputs": [],
   "source": [
    "int_selection = [\n",
    "    \"JCTCF\",\n",
    "    \"IVAC\",\n",
    "    \"ADES\",\n",
    "    \"VHC\",\n",
    "    \"CVR\",\n",
    "    \"GSMG\",\n",
    "    \"BNSO\",\n",
    "    \"GIFI\",\n",
    "    \"USNU\",\n",
    "    \"NCSM\",\n",
    "    \"WILC\",\n",
    "    \"GIGM\",\n",
    "    \"STRT\",\n",
    "    \"HURC\",\n",
    "    \"MSN\",\n",
    "    \"NTWK\",\n",
    "    \"SSY\",\n",
    "    \"SKAS\",\n",
    "    \"CAAS\",\n",
    "    \"UFI\",\n",
    "    \"CSTE\",\n",
    "    \"JVA\",\n",
    "    \"TOFB\",\n",
    "]"
   ]
  },
  {
   "cell_type": "code",
   "execution_count": null,
   "id": "7466ccd0-9a92-49c5-acf2-44a041767bd8",
   "metadata": {},
   "outputs": [],
   "source": [
    "int_price_df = price_to_liquid_df.loc[int_selection, [\"current_price\"]]\n",
    "int_price_df"
   ]
  },
  {
   "cell_type": "code",
   "execution_count": null,
   "id": "a1599413-1b47-4306-9b42-ec5e59e88f99",
   "metadata": {},
   "outputs": [],
   "source": [
    "int_selection_df = full_df[full_df[\"symbol\"].isin(int_selection)].reset_index().set_index(\"symbol\")\n",
    "int_selection_df"
   ]
  },
  {
   "cell_type": "code",
   "execution_count": null,
   "id": "96435bb6-3b49-4937-a8b5-65b72e62f585",
   "metadata": {},
   "outputs": [],
   "source": [
    "int_selection_resumed_df = pd.concat([int_price_df, int_selection_df[[\"ncavps\", \"liqvps\", \"current_ratio\", \"de_ratio1\", \"de_ratio2\", \"de_ratio3\", \"date\"]]], axis=1, join=\"inner\")"
   ]
  },
  {
   "cell_type": "code",
   "execution_count": null,
   "id": "abc8e5d8-8799-4120-a413-a8bc06aa640e",
   "metadata": {},
   "outputs": [],
   "source": [
    "int_selection_resumed_df[\"price_to_ncav\"] = int_selection_resumed_df[\"current_price\"] / int_selection_resumed_df[\"ncavps\"]\n",
    "int_selection_resumed_df[\"price_to_liqv\"] = int_selection_resumed_df[\"current_price\"] / int_selection_resumed_df[\"liqvps\"]"
   ]
  },
  {
   "cell_type": "code",
   "execution_count": null,
   "id": "7422ce16-68f0-4b7f-83f7-f36402ff6ae2",
   "metadata": {},
   "outputs": [],
   "source": [
    "int_selection_resumed_df.sort_values(by=\"price_to_ncav\")"
   ]
  },
  {
   "cell_type": "code",
   "execution_count": null,
   "id": "e5e9ca72-17a7-434c-967d-f0177d826f55",
   "metadata": {},
   "outputs": [],
   "source": [
    "int_selection_resumed_df.sort_values(by=\"price_to_liqv\")"
   ]
  },
  {
   "cell_type": "markdown",
   "id": "8ea895a7-fe62-4d3a-9162-82a225918266",
   "metadata": {
    "jp-MarkdownHeadingCollapsed": true,
    "tags": []
   },
   "source": [
    "### Set of questions that I should ask myself after I have identified potentially good opportunities\n",
    "\n",
    "* Do I know why the company is undervalued?\n",
    "* Is the reason for the company to be undervalued transitory?\n",
    "* Which percentage of the company operations are in China?\n",
    "* Does the company work in one of the industries that I discard?\n",
    "* Does the company have significant off-balance sheet liabilities?\n",
    "* What type of inventory and receivables does the company have?\n",
    "* Am I certain of the calculations?\n",
    "* Has the company been trading below liq value for a long time?\n",
    "\n",
    "### How to transform those questions into prompts to feed a LLM-based search engine ?\n",
    "\n",
    "* are there any recent negative news about the company {COMPANY_NAME}?\n",
    "* have there been any recent scandals or controversies involving {COMPANY_NAME}?\n",
    "* Are there any pending lawsuits or legal issues involving {COMPANY_NAME}?\n",
    "    * What is the current status on the lawsuit?\n",
    "    * Go deeper in this one ...\n",
    "* recent stock catalysts for {COMPANY_NAME}\n",
    "    * Have there been any recent developments or announcements related to {COMPANY_NAME}' products or services\n",
    "    * is there any recent news about merge and acquisitions regarding {COMPANY_NAME}?\n",
    "    * Dig deeper on this one\n",
    "* are there insiders stock purchases in {COMPANY_NAME}?"
   ]
  },
  {
   "cell_type": "markdown",
   "id": "21af986a-1e43-4291-9740-5270dd47fa67",
   "metadata": {},
   "source": [
    "## Analyzed Companies\n",
    "\n",
    "*Date : 20/06/2023*\n",
    "\n",
    "**WILC** : \n",
    "\n",
    "- bunch of scandals : funds malversation in 2006, 2009, 2016 and they have ongoing processes\n",
    "- I think not a good investment \n",
    "\n",
    "**SSY** : \n",
    "\n",
    "- They stopped their repurchase plan in 2020 cuz of COVID\n",
    "- Reduced demand for certain hospital services\n",
    "- Not a clear vision on how/when the conditions will go back to normal\n",
    "- Should go down for it to be a more attractive investment. At 0.72 it'll have a MOS of 33% to NCAV\n",
    "\n",
    "**EVOL** : \n",
    "\n",
    "- Former CEO quit but still part of the board of directors. I think not a big issue\n",
    "- They sold their two main business operations in Jan 2022\n",
    "- Dutch auction tender offer june 2022 (shares buyback sort of)\n",
    "- They'll be a R&D company for now in Machine Learning and similar fields\n",
    "- Very cheap (price/ncav of 26% so 74% discount), but should have a more clear business model or catalyst for it to be worth it\n",
    "- \n",
    "- They're buying back shares and ncav as of 29/08/2023 is 2.6 vs price of 0.56"
   ]
  },
  {
   "cell_type": "markdown",
   "id": "6985b230-eaaa-46ab-8c4a-83b6855e91bb",
   "metadata": {},
   "source": [
    "*Date 21/06/2023*\n",
    "\n",
    "**GIGM** : \n",
    "* Decreasing total revenues\n",
    "* The stock is often trading below liquidation value. Last time above liqvps was 15/08/2021. Another run was aug 2022 but not above liqv or ncav\n",
    "* On 2014 they published in their financial statement of 2013 that they're sentitive to copyright infringement. There might be a correlation between this and the decline, but not sure\n",
    "* They want to expand through companies purchases (M&A) so this is going to burn the cash and current assets a bit if any of the opportunities is seized\n",
    "* Burn rate of around 10%\n",
    "* According to its last run til 1.87, I estimate that the company should trade at around 1.15 to make a safe 50% if the stock goes all the way up til 1.7 (conservative estimation since the ncavps is 4.024298 and liqvps is 3.258609)\n",
    "*\n",
    "* As of 29/08/2023 they're ncav is 3.9 and price is 1.4 "
   ]
  },
  {
   "cell_type": "markdown",
   "id": "02523e6e-fdbf-4b44-938b-332c89774447",
   "metadata": {},
   "source": [
    "*Date 26/06/2023*\n",
    "\n",
    "**MSN** : \n",
    "\n",
    "* It's a company that does not disclose much information\n",
    "* The performance has been weaker and weaker since 2015 (judging by ncav)\n",
    "* information about how sensitive they are to copyright infringement if it happens\n",
    "* Control of Emerson Radio Corp changed twice since 2016\n",
    "* No news of potential catalyst (positive of negative)\n",
    "* if next burn rate of 12% (burn rate between 2021 and 2022) the price to ncavps will still be 0.49 (51% discount)\n"
   ]
  },
  {
   "cell_type": "markdown",
   "id": "6c4c73c4-05c9-4873-a3d2-a73dc473b66f",
   "metadata": {},
   "source": [
    "*Date 27/06/2023*\n",
    "\n",
    "**ADES**:\n",
    "\n",
    "* Violation of some GAAP stuff in 2017. In January 2022 a fair fund approved to pay the \"harmed\" investors -> The doc was published in Jan 2023. ADES had to pay some money to the SEC. It's settled\n",
    "* Appointment of a new member to the board of directors that might bring relevant expertise \n",
    "* Company provides solutions to coal-powered plants but seems like more on limiting pollution. No clear track of ADES affected by contamination scandals\n",
    "* They bought Arq Limited in august 2022. That might have hit a bit the price.\n",
    "* Big flop in earnings reports (-220%) of May.\n",
    "* Value is there when using data of dec 2022\n",
    "* They diluted shares in 2023\n",
    "\n"
   ]
  },
  {
   "cell_type": "markdown",
   "id": "0a152fab-9b81-4091-a6b8-70931ae44f76",
   "metadata": {},
   "source": [
    "*Date 28/06/2023*\n",
    "\n",
    "**GURE**\n",
    "\n",
    "* Chinese\n",
    "\n",
    "**UTSI**\n",
    "\n",
    "* Chinese\n",
    "\n",
    "**USNU**\n",
    "\n",
    "* court case in 2010 with another company but not a scandal type of thing\n",
    "* court case in 2020 for improper billing practices and they had to pay 1M\n",
    "* burn rate of 16%\n",
    "* in the last two years it has reached ncav levels\n",
    "* Below 0.05 could be attractive (at 0.05 it would have a MOS of 30%)"
   ]
  },
  {
   "cell_type": "markdown",
   "id": "667c26d2-0234-46a6-81d1-2cb1f686b501",
   "metadata": {},
   "source": [
    "*Date 29/06/2023*\n",
    "\n",
    "**JRSH**\n",
    "\n",
    "* Actual ncavps is 3.39837\n",
    "* Actual liqvps is 3.21024\n",
    "* It was constantly growing until the last report two days ago\n",
    "* lower sales from two major U.S. customers\n",
    "* shipments being deferred by customers to the fiscal 2024\n",
    "* shift in product mix to lower margin items (??? dont' know if of customers or company)\n",
    "* according to CEO:  retail continues face a weak economic env, consumers limiting spending on higher priced items\n",
    "* They're looking to expand/grow\n",
    "* 2024 might be the same as 2023\n",
    "* focused on expanding their customer base, increasing production capacity, and improving operational efficienc\n",
    "* acquired property in 2019 that they plan to develop as market conditions improve\n",
    "* Should fall below 2.2 to be more attractive in current conditions"
   ]
  },
  {
   "cell_type": "markdown",
   "id": "2186ac5e-5b8e-40c0-9bfb-156494623446",
   "metadata": {},
   "source": [
    "*Date 30/06/2023*\n",
    "\n",
    "**JVA**\n",
    "\n",
    "* Bought Steep N Brew in 2018 and in 2022 the announced they got rid of it cuz not that profitable\n",
    "* They increased debt (long term debt)\n",
    "* They will be acquired by Delta Corp Holdings Limited, but they aren't a public company -> better to steer away from it\n",
    "\n",
    "**NCSM**\n",
    "\n",
    "* changes in its leadership and management team after CEO retirement\n",
    "* a couple of lawsuits one settled in 2020 and the other won 2022\n",
    "* They acquired Spectrum Tracer Services in 2017\n",
    "* I don't know why it is undervalued wrt both ncav and liqv <------\n",
    "* At current date it is at 30% discount of NCAV (17). Recheck around 15\n",
    "* They incresed a lot their liabilities and now their NCAV (23-08-23) is around 5"
   ]
  },
  {
   "cell_type": "markdown",
   "id": "96098922-84e9-4a32-bf1b-18ac8697cde2",
   "metadata": {},
   "source": [
    "*Date 04/07/2023*\n",
    "\n",
    "**STRT**\n",
    "\n",
    "* They are diluting some shares\n",
    "* Gross profit decreasing since 2021\n",
    "* Their net income goes up and down\n",
    "* One case in 1997 where STRT filed a lawsuit against General Automotive for infringement but no infringement was found\n",
    "* one case in 2006 apparently but not much info found\n",
    "* They sold their 1/3rd stake in a joint venture and gained full control of the other joint venture they had with the same company (at least under the restructuring agreement I read about)\n",
    "* They have relatively solid customers like Hyundai/Kia, Ford, GM\n",
    "* They plan to explore and execute targeted mergers and acquisitions in the foreseable future (direction not specified)\n",
    "* Mergin is low: now it is a 15% of discount relative to NCAV. Recheck if stock price goes below 17"
   ]
  },
  {
   "cell_type": "markdown",
   "id": "69dea764-586f-493a-b36d-3ad103b8f2d1",
   "metadata": {},
   "source": [
    "*Date 05/07/2023*\n",
    "\n",
    "**HURC**\n",
    "\n",
    "* They're buying back shares\n",
    "* They increased dividend payment and their payout ratio is above 100%\n",
    "* Significantly high institutional ownership (61%) -> stock price might be sensitive to their trading actions\n",
    "* They bought a company in 2019\n",
    "* For a margin of safety of around 33% check below 19\n",
    "* Their NCAV is growing but they are not growing sales or income\n",
    "\n",
    "**SKAS**\n",
    "* NCAV trending upwards\n",
    "* gros profit recovering pre-covid values\n",
    "* Net income getting better (higher)\n",
    "* Stable outstanding shares\n",
    "* In 2016 they acquired an aircraft maintenance services company\n",
    "* Lawsuit filed against SKAS in 2021 but no further information about it\n",
    "* SKAS' subsidiary bought by a company on sept 2022 -> SKAS will not engage in any business involving the operation of a fixed based operation supplying aviation fuels and lubricants or the supply of other goods or provision of services typically supplied or performed at fixed base operations at airports at any facility located within one hundred (100) miles of the Garden City Regional Airport in Garden City, Kansas\n",
    "* Got a concession to operate exclusively in a manhattan heliport on April 30, 2023 -> I Think this contract was cancelled due to conflic of interest\n",
    "* Now the company is trading at a 25% discount to NCAV\n",
    "*\n",
    "* NCAV 6.4 & LIQV 6.1 on 26/08/23\n",
    "* Had a negative quarter in march 2023 and now positive again\n",
    "* Trading at 13% of current ncav and 21% of projected ncav @ 10% growth in 2024. Re-assess @ 5"
   ]
  },
  {
   "cell_type": "markdown",
   "id": "98b6cdc9-d1ad-4091-9e22-9f74674721d4",
   "metadata": {},
   "source": [
    "*Date 26/07/2023*\n",
    "\n",
    "**JCTCF**\n",
    "\n",
    "* They closed their Jewett-Cameron Seed Company (JCSC) subsidiary cuz flat revenues and rising operating costs\n",
    "* Buying back shares\n",
    "* affected by higher cost from China and all accross the US since after covid\n",
    "* Unable to pass costs to consumers\n",
    "* ex CFO was bullish in mid-2022 (seekingalpha articles) and stock is cheaper now\n",
    "* No inside purchases\n",
    "* 59% of outs shared owned by institutions\n",
    "* stock price should fall below 4 to have a MOS of in 2024 of 33% (including growth projections)"
   ]
  },
  {
   "cell_type": "markdown",
   "id": "008a6b3f-9999-4e8c-a7b6-ccdd0ec13c8a",
   "metadata": {},
   "source": [
    "*Date 02/08/2023*\n",
    "\n",
    "**VHC**\n",
    "\n",
    "* NCAV is 2.12 and LIQV is 1.2 -> mos of 0.78 (ncav) and 0.61 (liqv)\n",
    "* They lost 2 patents in court that vhc has accused Apple of infringing. News came out at end of march 2023\n",
    "* It seems that the grow in NCAV is due to the money that Apple paid to them after the first court verdict\n",
    "* They declared a special dividend of 1$ per share at the end of march -> negative for the valuation but won't be constant\n",
    "* VHC committed to promptly distribute to shareholders 80% of future proceeds, if any, and net of related legal costs, licensing costs and taxes, that it receives from its current litigation with Apple\n",
    "* On june 2023, They signed an NDA with a company/holding to sell their products\n",
    "* Kendall Larsen, President & CEO purchased stocks in the open market on june 2023 and on may 2023, others from the board bought too (between 0.38 & 0.44)\n",
    "* This look like a buy"
   ]
  },
  {
   "cell_type": "markdown",
   "id": "8a3eefdc-af16-4b7b-a206-1602f056a536",
   "metadata": {},
   "source": [
    "*Date 03/08/2023*\n",
    "\n",
    "**GIFI**\n",
    "\n",
    "* They got inot shipyards in 2016 that didn't turn as profitable as expected. They started steering away from it in 2019\n",
    "* Lawsuit in january 2023 for wrongful termination of a contract. If they lose I think they'll have to pay something. The trial is expected to take place on October 16th, 2023\n",
    "* There are some talks with one of the institution holders to see how to improve the stock perf, among other things (news from june 2023)\n",
    "* People from the obard have exercised (bought) stocks at around 3.25 on june 1st, 2023\n",
    "* Today is just slightly below ncav. It should be below 2.4 for a mos of 33% -> To recheck after the trial of October 16th, 2023"
   ]
  },
  {
   "cell_type": "markdown",
   "id": "17eb070f-65f7-4fdb-89fb-2692fd3fbf04",
   "metadata": {},
   "source": [
    "*Date 24/08/2023*\n",
    "\n",
    "**TOFB**\n",
    "\n",
    "* The latest NCAV is slightly lower than the one from Dec 2022 (0.63 vs 0.67)\n",
    "* MOS of 33% from 0.63 @ 0.41\n",
    "* The 10y trend in upwards\n",
    "* Mostly stable shared outstanding\n",
    "* They received notification that they should stay 10 consecutive days with market cap > 5M to stay in OTCX, otherwise they'll go to OTCB\n",
    "* Revenues are lower than same period last year\n",
    "* net income is negative since june 2022\n",
    "* They increase inventory since 2022 but it's been like that for the last 5 quarters (product eventually expires but maybe they just increased production & distribution capabilities\n",
    "* As a general note I should learn how to identify when a company increases production / distribution capabilities by looking at their financial statement :)"
   ]
  },
  {
   "cell_type": "markdown",
   "id": "3e62b825-c6d8-45b3-b06e-202268b5c008",
   "metadata": {},
   "source": [
    "*25/08/2023*\n",
    "\n",
    "**CVR**\n",
    "\n",
    "* The company pays dividends every quarter but they cut it from 0.22 to 0.10 per share\n",
    "* Last NCAV is 16.7. Should be around 11 for a MOS of 33%\n",
    "* Their ncav and assets are growing for 10 years\n",
    "* Slight decrease of revenues. Negative net income since december 2022\n",
    "* Stable shares\n",
    "* No inisiders purchases\n",
    "* They have been granted permission to build stuff for a medical application\n",
    "* Quite silent company in the news\n",
    "\n",
    "**NTWK**\n",
    "\n",
    "* Stable nb of shares\n",
    "* First positive quarter (net income) since march 2022\n",
    "* Their assets are decreasing but their liabilities are also decreasing\n",
    "* Recognized by Monitor Daily in ‘Most Innovative Companies in the Equipment Finance Ecosystem’ on April 2023\n",
    "* They earned a AWS CloudFormation Badge for their expertise in the stuff on April 2023\n",
    "* They earned Buy Rating from StockNews.com -> perhaps positive sentiment\n",
    "* The president purchased stocks @ 2.19 for a total of 400K+ on 06/26/2023. And he purchased a lot more earlier this year\n",
    "* I generally like it. NCAV 1.97. Should be at 1.3 for a MOS of 33%\n",
    "\n",
    "**CAAS**\n",
    "\n",
    "* Chinese"
   ]
  },
  {
   "cell_type": "markdown",
   "id": "d807cbb0-c99b-4b69-a47b-1c8afbcbea1c",
   "metadata": {},
   "source": [
    "*28/08/2023*\n",
    "\n",
    "**IVAC**\n",
    "\n",
    "* There is some shares dillution\n",
    "* Their revenues dropped significantly and their net income became negative since 2022\n",
    "* 3% increase in revenues from last quarter. 160% increase in revenues from Q1 2022 (I did not confirm it myself)\n",
    "* They work with thin-film products that HDD use. The HDD industry seems to be a complicated right now\n",
    "* They explore \"strategic alternatives for the business\"\n",
    "* The stock is @ 90%+ of NCAV (stock price 3.43). It seems likely that it will keep going down\n",
    "\n",
    "**UFI**\n",
    "\n",
    "* NCAV 4.36 so company is overpriced\n",
    "* Stable shares\n",
    "* The legal advisor of the company and board member is buying shares since the beginning of the year for more than its current public price of 6.40\n",
    "* They bought the company Nylon Portfolio of Fiber and Yarn Products, Inc but I cannot find further info\n",
    "* Check below 3 for a MoS\n",
    "\n",
    "**BNSO**\n",
    "* They suspended their reports filings in the US -> They are not subject anymore to SEC standards. This is a double-edged sword\n",
    "* 0.16 ncav, 1.17 liqv -> Company overvalued @ 2.63\n",
    "* Not sure it is worth digging deeper at the moment\n",
    "\n",
    "**CSTE**\n",
    "* ncav 1.92 (overvalued), liqv 4.74 (13% MOS)\n",
    "* Struggling with expenses and a slowing U.S. market in Q3 2023\n",
    "* In March 2023 they named CEO the was who was CEO between 2009 to 2016\n",
    "* They closed a plant and fired 150 employees to reduce costs\n",
    "* It is expected that the plant closing will cost 4 - 8 M USD til Q2 2024\n",
    "* They expect to save 10 to 15 M USD with the possibility to save more after the closing process is accomplished\n",
    "* Check around 3 for a MOS of ~ 36%"
   ]
  },
  {
   "cell_type": "code",
   "execution_count": null,
   "id": "6b2b1cd7-89c5-4bbe-8a9f-edfcc9859fbf",
   "metadata": {},
   "outputs": [],
   "source": []
  },
  {
   "cell_type": "markdown",
   "id": "dfb25b40-2b91-48d0-afad-e87a8b42f724",
   "metadata": {},
   "source": [
    "### List of companies\n",
    "\n",
    "*Date 20/06/2023*\n",
    "\n",
    "\"TK\",\n",
    "\"SSY\",\n",
    "\"JRSH\",\n",
    "\"TUSK\",\n",
    "\"USNU\",\n",
    "\"HURC\",\n",
    "\"NCSM\",\n",
    "\"UTSI\",\n",
    "\"GURE\",\n",
    "\"NTWK\",\n",
    "\"STRT\",\n",
    "\"WILC\",\n",
    "\"MSN\",\n",
    "\"SKAS\",\n",
    "\"ADES\",\n",
    "\"JVA\",\n",
    "\"UFI\",\n",
    "\"GIGM\",\n",
    "\"WAFU\",\n",
    "\"JCTCF\",\n",
    "\"BNSO\",\n",
    "\"GIFI\",\n",
    "\n",
    "*Date 02/08/2023*\n",
    "\n",
    "\"NCSM\",\n",
    "\"ADES\",\n",
    "\"HURC\",\n",
    "\"TOFB\",\n",
    "\"SSY\",\n",
    "\"USNU\",\n",
    "\"GURE\",\n",
    "\"UFI\",\n",
    "\"JCTCF\",\n",
    "\"WAFU\",\n",
    "\"GIFI\",\n",
    "\"TUSK\",\n",
    "\"VHC\",\n",
    "\"NTWK\",\n",
    "\"SKAS\",\n",
    "\"MSN\",\n",
    "\"UTSI\",\n",
    "\n",
    "*Date 22/08/2023*\n",
    "\n",
    "\"JCTCF\",\n",
    "\"IVAC\",\n",
    "\"ADES\",\n",
    "\"VHC\",\n",
    "\"CVR\",\n",
    "\"GSMG\",\n",
    "\"BNSO\",\n",
    "\"GIFI\",\n",
    "\"USNU\",\n",
    "\"NCSM\",\n",
    "\"WILC\",\n",
    "\"GIGM\",\n",
    "\"STRT\",\n",
    "\"HURC\",\n",
    "\"MSN\",\n",
    "\"NTWK\",\n",
    "\"SSY\",\n",
    "\"SKAS\",\n",
    "\"CAAS\",\n",
    "\"UFI\",\n",
    "\"CSTE\",\n",
    "\"JVA\",\n",
    "\"TOFB\","
   ]
  },
  {
   "cell_type": "markdown",
   "id": "8e1125a0-1a2f-4871-9b49-65ff3a4d9754",
   "metadata": {
    "tags": []
   },
   "source": [
    "## TMP ##"
   ]
  },
  {
   "cell_type": "code",
   "execution_count": null,
   "id": "95fda39d-feb2-4d60-9719-0c44ae814ec5",
   "metadata": {},
   "outputs": [],
   "source": [
    "%%time\n",
    "#missed_tickers = []\n",
    "#full_df = pd.DataFrame()\n",
    "for ticker in [\"TSN\"]:\n",
    "    # define urls\n",
    "    url_balance_sheet = f\"https://financialmodelingprep.com/api/v3/balance-sheet-statement/{ticker}?limit=10&apikey={KEY}\"\n",
    "    url_income_stmt = f\"https://financialmodelingprep.com/api/v3/income-statement/{ticker}?limit=10&apikey={KEY}\"\n",
    "\n",
    "    try:\n",
    "        # load data\n",
    "        response_balance_sheet = urlopen(url_balance_sheet, cafile=certifi.where())\n",
    "        response_income_stmt = urlopen(url_income_stmt, cafile=certifi.where())\n",
    "    except:\n",
    "        missed_tickers.append(ticker)\n",
    "        \n",
    "    data_balance_sheet = response_balance_sheet.read().decode(\"utf-8\")\n",
    "    data_balance_sheet = json.loads(data_balance_sheet)\n",
    "    if len(data_balance_sheet) < 5:\n",
    "        continue\n",
    "\n",
    "    data_income_stmt = response_income_stmt.read().decode(\"utf-8\")\n",
    "    data_income_stmt = json.loads(data_income_stmt)\n",
    "    if len(data_income_stmt) < 5:\n",
    "        continue\n",
    "        \n",
    "    balance_sheet_df = pd.DataFrame(data_balance_sheet)\n",
    "    income_stmt_df = pd.DataFrame(data_income_stmt)\n",
    "    balance_sheet_df = balance_sheet_df.set_index(\"date\")\n",
    "    income_stmt_df = income_stmt_df.set_index(\"date\")\n",
    "    balance_sheet_df = balance_sheet_df[bs_cols]\n",
    "    income_stmt_df = income_stmt_df[is_cols]\n",
    "\n",
    "    fs_df = pd.concat([balance_sheet_df, income_stmt_df], axis=1, join=\"inner\")\n",
    "    fs_df = fs_df.iloc[::-1] # from oldest to newest\n",
    "    # compute NCAV\n",
    "    fs_df[\"ncavps\"] = fs_df.apply(compute_ncavps, axis=1)\n",
    "    # compute LIQV\n",
    "    fs_df[\"liqvps\"] = fs_df.apply(compute_liqvps, args=(factors,), axis=1)\n",
    "    # compute current ratio\n",
    "    fs_df[\"current_ratio\"] = fs_df.apply(compute_current_ratio, axis=1)\n",
    "    # compute de ratio 1\n",
    "    fs_df[\"de_ratio1\"] = fs_df.apply(compute_de_ratio1, axis=1)\n",
    "    # compute de ratio 2\n",
    "    fs_df[\"de_ratio2\"] = fs_df.apply(compute_de_ratio2, axis=1)\n",
    "    # compute de ratio 3\n",
    "    fs_df[\"de_ratio3\"] = fs_df.apply(compute_de_ratio3, axis=1)\n",
    "\n",
    "    # plot indicators\n",
    "    print(ticker)\n",
    "    plot_indicators(fs_df)"
   ]
  },
  {
   "cell_type": "code",
   "execution_count": null,
   "id": "bc85a754-ab06-476a-b407-b4abb1ecb972",
   "metadata": {},
   "outputs": [],
   "source": [
    "fs_df"
   ]
  },
  {
   "cell_type": "code",
   "execution_count": null,
   "id": "dca2c509-a9fc-400e-bfc0-98714c601077",
   "metadata": {},
   "outputs": [],
   "source": [
    "((fs_df[\"ncavps\"] - fs_df[\"ncavps\"].shift()) / fs_df[\"ncavps\"].shift())"
   ]
  },
  {
   "cell_type": "code",
   "execution_count": null,
   "id": "015259cf-9010-423d-a795-c598c7835434",
   "metadata": {},
   "outputs": [],
   "source": [
    "fs_df[\"ncavps\"]"
   ]
  },
  {
   "cell_type": "code",
   "execution_count": null,
   "id": "3880f68b-ad27-47f4-98a4-4bb215f5ba2a",
   "metadata": {},
   "outputs": [],
   "source": [
    "6.44/(6.62*1.2)"
   ]
  },
  {
   "cell_type": "code",
   "execution_count": null,
   "id": "413d2616-f380-42e3-a961-eb7b01e2438d",
   "metadata": {},
   "outputs": [],
   "source": []
  }
 ],
 "metadata": {
  "kernelspec": {
   "display_name": "value_investment",
   "language": "python",
   "name": "value_investment"
  },
  "language_info": {
   "codemirror_mode": {
    "name": "ipython",
    "version": 3
   },
   "file_extension": ".py",
   "mimetype": "text/x-python",
   "name": "python",
   "nbconvert_exporter": "python",
   "pygments_lexer": "ipython3",
   "version": "3.10.13"
  }
 },
 "nbformat": 4,
 "nbformat_minor": 5
}
