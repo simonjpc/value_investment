{
 "cells": [
  {
   "cell_type": "markdown",
   "id": "eae74719-8efc-4a21-b4e3-109bacc16b7d",
   "metadata": {
    "tags": []
   },
   "source": [
    "## Below the steps to identify the most promising stocks using the EPS X appraoch\n",
    "\n",
    "1. have an excel file with all the tickers extracted from a filter on tradingview\n",
    "2. Compute the FP (see below) for all the companies\n",
    "3. Compute PFV (see below) for the all the companies\n",
    "4. Create a flag column \"below eps_pfv\" indicating whether the price is below pfv\n",
    "5. take the tickers respecting the condition 4 and create history plots\n",
    "6. select by hand the most promising stocks\n",
    "7. for the selected ones get the price to pfv ratio\n",
    "8. do an ascending sort of the stocks with the values computed in 7 and see the most promising tickers"
   ]
  },
  {
   "cell_type": "markdown",
   "id": "770ac477-e24d-4929-b554-911a0bfc0368",
   "metadata": {},
   "source": [
    "### Formula\n",
    "\n",
    "* $FP = EPS \\cdot (1 + Growth)^{Years} \\cdot PE$\n",
    "\n",
    "* $PFV = \\frac{FP}{(1 + Return)^{Years}}$\n",
    "\n",
    "In the equations : \n",
    "\n",
    "* `FP` means *Future Price* and refers to the price that the stock should have in the future\n",
    "* `PFV` mean *Present Fair Value* and refers to the price that the company should be trading today in the market\n",
    "* `EPS` refers to the EPS that we see of the company today (now, avg TTM, MRQ, etc)\n",
    "* `Growth` refers to what I think the company is going to grow in the following years\n",
    "* `Years` are the number of years to take into consideration when doing the calculation\n",
    "* `PE` refers to what I think is going to be the PE ratio after all the years considered. Thus, this is an estimated future PE ratio\n",
    "* `Return` refers to what I think is going to be the avg yearly return of the investment during all the years considered"
   ]
  },
  {
   "cell_type": "markdown",
   "id": "1d8e58f7-27b9-4a7e-992a-fc0b59a19c2c",
   "metadata": {},
   "source": [
    "### Imports"
   ]
  },
  {
   "cell_type": "code",
   "execution_count": 1,
   "id": "fd8b0391-c51a-4241-9353-f6ef45af6130",
   "metadata": {},
   "outputs": [],
   "source": [
    "import certifi\n",
    "import json\n",
    "import pandas as pd\n",
    "import numpy as np\n",
    "from tqdm import tqdm\n",
    "import time\n",
    "import matplotlib.pyplot as plt\n",
    "from urllib.request import urlopen\n",
    "from datetime import timedelta\n",
    "from typing import List, Any, Tuple, Dict"
   ]
  },
  {
   "cell_type": "markdown",
   "id": "20cbb621-8447-45a6-863c-8bfd5207bde2",
   "metadata": {},
   "source": [
    "### Constants"
   ]
  },
  {
   "cell_type": "code",
   "execution_count": 2,
   "id": "b08fd034-e5c6-4ea3-b81d-bffbf920a544",
   "metadata": {},
   "outputs": [],
   "source": [
    "current_assets_factors = {\n",
    "    \"receivables_factor\": 0.8,\n",
    "    \"inventory_factor\": 0.6,\n",
    "    \"ppe_factor\": 0.67,\n",
    "}\n",
    "\n",
    "bs_cols = [\n",
    "    \"fillingDate\",\n",
    "    \"symbol\",\n",
    "    \"totalEquity\",\n",
    "    \"totalCurrentAssets\",\n",
    "    \"totalAssets\",\n",
    "    \"totalCurrentLiabilities\", \n",
    "    \"totalLiabilities\",\n",
    "    \"totalStockholdersEquity\",\n",
    "    \"totalDebt\",\n",
    "    \"goodwillAndIntangibleAssets\",\n",
    "    \"goodwill\",\n",
    "    \"intangibleAssets\",\n",
    "]\n",
    "is_cols = [\n",
    "    \"fillingDate\",\n",
    "    \"eps\",\n",
    "    \"weightedAverageShsOutDil\",\n",
    "    \n",
    "]"
   ]
  },
  {
   "cell_type": "markdown",
   "id": "9cfe209a-316a-451c-9b6e-a68c82858997",
   "metadata": {},
   "source": [
    "### Functions"
   ]
  },
  {
   "cell_type": "code",
   "execution_count": 3,
   "id": "86d9d995-de23-46dc-9443-f00762b6a239",
   "metadata": {},
   "outputs": [],
   "source": [
    "def compute_fp(\n",
    "    eps:float,\n",
    "    growth_value: float,\n",
    "    years: int,\n",
    "    future_pe: float,\n",
    ") -> float:\n",
    "    capped_growth_value = min(0.40, growth_value)\n",
    "    capped_future_pe = min(20, future_pe)\n",
    "    return eps * ((1 + capped_growth_value) ** years) * capped_future_pe\n",
    "\n",
    "def compute_pfv(fp: float, return_value: float, years: int) -> float:\n",
    "    capped_return_value = min(0.20, return_value)\n",
    "    return fp / ((1 + capped_return_value) ** years)\n",
    "\n",
    "def compute_pex_value_handler(\n",
    "    eps: float,\n",
    "    growth_value: float,\n",
    "    return_value: float,\n",
    "    future_pe: float,\n",
    "    years: int,\n",
    ") -> float:\n",
    "    fp = compute_fp(eps, growth_value, years, future_pe)\n",
    "    pfv = compute_pfv(fp, return_value, years)\n",
    "    return pfv"
   ]
  },
  {
   "cell_type": "code",
   "execution_count": 4,
   "id": "68e1874a-2537-42aa-bd57-b3acb09d6705",
   "metadata": {},
   "outputs": [],
   "source": [
    "def get_income_stmt_info(ticker: str, nb_years: int = 10) -> List[Dict[str, Any]]:\n",
    "    url_income_stmt = f\"https://financialmodelingprep.com/api/v3/income-statement/{ticker}?limit={nb_years}&apikey={KEY}\"\n",
    "    response_income_stmt = urlopen(url_income_stmt, cafile=certifi.where())\n",
    "    data_income_stmt = response_income_stmt.read().decode(\"utf-8\")\n",
    "    data_income_stmt = json.loads(data_income_stmt)\n",
    "    return data_income_stmt\n",
    "\n",
    "def get_key_from_iterator(iterator: List[Dict[str, Any]], key: str) -> List[float]:\n",
    "    all_eps = [element[key] for element in iterator]\n",
    "    return all_eps\n",
    "\n",
    "def compute_historical_growth(iterator: List[float]) -> List[float]:\n",
    "    all_growth = [np.nan]\n",
    "    for idx in range(1, len(iterator)):\n",
    "        all_growth.append((iterator[idx] - iterator[idx-1]) / iterator[idx-1])\n",
    "    return all_growth\n",
    "\n",
    "def drop_nans(iterator: List[float]) -> List[float]:\n",
    "    iterator_wo_nans = [element for element in iterator if not np.isnan(element)]\n",
    "    return iterator_wo_nans\n",
    "\n",
    "def compute_stat_bound(\n",
    "    iterator: List[float], q_inf: float = 0.25, q_sup: float = 0.75, distance: int = 3\n",
    ") -> Tuple[float, float]:\n",
    "    q1 = np.quantile(iterator, q_inf)\n",
    "    q3 = np.quantile(iterator, q_sup)\n",
    "    iqr = q3 - q1\n",
    "    lower_bound = q1 - distance*iqr\n",
    "    upper_bound = q3 + distance*iqr\n",
    "    return lower_bound, upper_bound\n",
    "\n",
    "def compute_avg_value(iterator: List[float]) -> float:\n",
    "    avg = np.mean(iterator)\n",
    "    return avg"
   ]
  },
  {
   "cell_type": "code",
   "execution_count": 5,
   "id": "7377c491-8312-4d23-ba8c-f4afc5677fb0",
   "metadata": {},
   "outputs": [],
   "source": [
    "def get_reporting_window(financial_info: Dict[str, Any]) -> Tuple[str, str]:\n",
    "    last_report_date = financial_info[\"date\"]\n",
    "    window_start = pd.to_datetime(last_report_date) + pd.DateOffset(days=30)\n",
    "    window_start = str(window_start.date())\n",
    "    window_end = pd.to_datetime(last_report_date) + pd.DateOffset(days=46)\n",
    "    window_end = str(window_end.date())\n",
    "    return window_start, window_end\n",
    "\n",
    "def get_prices_in_range(ticker: str, window_start: str, window_end: str) -> List[Dict[str, Any]]:\n",
    "    url_prices =  f\"https://financialmodelingprep.com/api/v3/historical-price-full/{ticker}?from={window_start}&to={window_end}&apikey={KEY}\"\n",
    "    response_prices = urlopen(url_prices, cafile=certifi.where())\n",
    "    data_prices = response_prices.read().decode(\"utf-8\")\n",
    "    data_prices = json.loads(data_prices)\n",
    "    return data_prices\n",
    "\n",
    "def handling_negative_pe(iterator: List[float]) -> List[float]:\n",
    "    positive_historical_pe = [val if val > 0 else 0 for val in iterator]\n",
    "    return positive_historical_pe"
   ]
  },
  {
   "cell_type": "markdown",
   "id": "988989bc-fd5c-4e1a-a330-49f42982c8f8",
   "metadata": {},
   "source": [
    "### Constants"
   ]
  },
  {
   "cell_type": "code",
   "execution_count": 6,
   "id": "34c8e481-fafa-4931-a1c4-b3fa3363ad26",
   "metadata": {},
   "outputs": [],
   "source": [
    "KEY_PATH = \"fmi-personal-key.txt\"\n",
    "with open(KEY_PATH, \"r\") as f:\n",
    "    KEY = f.read()"
   ]
  },
  {
   "cell_type": "code",
   "execution_count": 7,
   "id": "64a7e0f1-872e-4c07-8a38-0789f9a2e22e",
   "metadata": {},
   "outputs": [],
   "source": [
    "with open(\"tickers_list_28062023.txt\", \"r\") as f:\n",
    "    TICKERS = f.read().split(\"\\n\")"
   ]
  },
  {
   "cell_type": "code",
   "execution_count": 8,
   "id": "c62ebc5e-9d67-4470-8397-68a84410c85f",
   "metadata": {},
   "outputs": [],
   "source": [
    "TICKERS = list(set(TICKERS))"
   ]
  },
  {
   "cell_type": "code",
   "execution_count": 9,
   "id": "39444e50-5223-4895-a234-4c4537a7af8f",
   "metadata": {},
   "outputs": [
    {
     "data": {
      "text/plain": [
       "True"
      ]
     },
     "execution_count": 9,
     "metadata": {},
     "output_type": "execute_result"
    }
   ],
   "source": [
    "\"CTHR\" in TICKERS"
   ]
  },
  {
   "cell_type": "markdown",
   "id": "8d88db9c-2369-436d-b72d-8197f599aeb0",
   "metadata": {},
   "source": [
    "Example of EPS X calculation for CTHR\n",
    "\n",
    "There are 4 things that we need to decide to compute the value : \n",
    "\n",
    "* Return : I am going to use a standard of 20%\n",
    "* Growth : I am going to use the data of the last 10 years and the what has been the avg growth. I am going to try it with EPS and then see if it's possible to do it with equity\n",
    "* PE : The future PE ratio will be (10Y max - 10Ymin) / 2. I need to get the data from the last 10 years For the EPS it'll be straightforward, for the price I should match the eps of year X with the avg price of 3 months after the data of the report of year X\n",
    "* Years : Number of years to consider in the calculations. I will use 7 (in between 5 and 10) cuz 5 is too short and 10 is too long"
   ]
  },
  {
   "cell_type": "markdown",
   "id": "84425ce5-2a21-40fd-9005-6e4b7a507da4",
   "metadata": {},
   "source": [
    "#### Return value"
   ]
  },
  {
   "cell_type": "code",
   "execution_count": 10,
   "id": "c73dbdb6-34d8-4851-a4f9-2e62c841c381",
   "metadata": {},
   "outputs": [
    {
     "data": {
      "text/plain": [
       "0.2"
      ]
     },
     "execution_count": 10,
     "metadata": {},
     "output_type": "execute_result"
    }
   ],
   "source": [
    "return_value = 0.2\n",
    "return_value"
   ]
  },
  {
   "cell_type": "markdown",
   "id": "d67586a4-5b39-4710-a98c-3243c83664b4",
   "metadata": {},
   "source": [
    "#### Growth value"
   ]
  },
  {
   "cell_type": "code",
   "execution_count": 11,
   "id": "d94c2cb8-6cd0-4d19-98c4-ab1659b813a2",
   "metadata": {},
   "outputs": [],
   "source": [
    "# steop by step"
   ]
  },
  {
   "cell_type": "code",
   "execution_count": 12,
   "id": "b9a4ea60-5f8b-448d-bbd0-f143f47eff4a",
   "metadata": {},
   "outputs": [
    {
     "name": "stderr",
     "output_type": "stream",
     "text": [
      "/var/folders/mr/pm_1h_jn1gs2n48rx1j1ygsr0000gn/T/ipykernel_59445/3274548525.py:3: DeprecationWarning: cafile, capath and cadefault are deprecated, use a custom context instead.\n",
      "  response_income_stmt = urlopen(url_income_stmt, cafile=certifi.where())\n",
      "/var/folders/mr/pm_1h_jn1gs2n48rx1j1ygsr0000gn/T/ipykernel_59445/3274548525.py:8: DeprecationWarning: cafile, capath and cadefault are deprecated, use a custom context instead.\n",
      "  response_balance_sheet = urlopen(url_balance_sheet, cafile=certifi.where())\n"
     ]
    }
   ],
   "source": [
    "ticker = \"CTHR\"\n",
    "url_income_stmt = f\"https://financialmodelingprep.com/api/v3/income-statement/{ticker}?limit=10&apikey={KEY}\"\n",
    "response_income_stmt = urlopen(url_income_stmt, cafile=certifi.where())\n",
    "data_income_stmt = response_income_stmt.read().decode(\"utf-8\")\n",
    "data_income_stmt = json.loads(data_income_stmt)\n",
    "\n",
    "url_balance_sheet = f\"https://financialmodelingprep.com/api/v3/balance-sheet-statement/{ticker}?limit=10&apikey={KEY}\"\n",
    "response_balance_sheet = urlopen(url_balance_sheet, cafile=certifi.where())\n",
    "data_balance_sheet = response_balance_sheet.read().decode(\"utf-8\")\n",
    "data_balance_sheet = json.loads(data_balance_sheet)"
   ]
  },
  {
   "cell_type": "code",
   "execution_count": 9,
   "id": "4046c16e-b8d0-4e72-94c7-277c5a8d20ab",
   "metadata": {},
   "outputs": [],
   "source": [
    "all_eps = [element[\"eps\"] for element in data_income_stmt]\n",
    "all_eps"
   ]
  },
  {
   "cell_type": "code",
   "execution_count": 13,
   "id": "3a20c3d8-fb35-45d8-8f41-ab3ec590c794",
   "metadata": {},
   "outputs": [
    {
     "data": {
      "text/plain": [
       "[59557767,\n",
       " 55689016,\n",
       " 41435577,\n",
       " 45719024,\n",
       " 34858626,\n",
       " 34868621,\n",
       " 38388777,\n",
       " 46018173,\n",
       " 57427673,\n",
       " 56677176]"
      ]
     },
     "execution_count": 13,
     "metadata": {},
     "output_type": "execute_result"
    }
   ],
   "source": [
    "all_equity = [element[\"totalStockholdersEquity\"] for element in data_balance_sheet]\n",
    "all_equity"
   ]
  },
  {
   "cell_type": "code",
   "execution_count": 28,
   "id": "fe320c4c-8b7b-4d03-a70a-338b40003dd8",
   "metadata": {},
   "outputs": [],
   "source": [
    "\"\"\"all_growth = []\n",
    "for idx in range(1, len(all_eps)):\n",
    "    all_growth.append((all_eps[idx] - all_eps[idx-1]) / all_eps[idx-1])\"\"\"\n",
    "\n",
    "all_growth = []\n",
    "for idx in range(1, len(all_equity)):\n",
    "    all_growth.append((all_equity[idx-1] - all_equity[idx]) / all_equity[idx])"
   ]
  },
  {
   "cell_type": "code",
   "execution_count": 49,
   "id": "0d2db0de-926e-4c22-b5c2-cec1b90db2de",
   "metadata": {},
   "outputs": [
    {
     "data": {
      "text/plain": [
       "[4.5,\n",
       " -1.5,\n",
       " -1.4545454545454546,\n",
       " -1.214,\n",
       " 9.280373831775702,\n",
       " 1.1363636363636362,\n",
       " 0.38297872340425543,\n",
       " -0.9001538461538462,\n",
       " -4.543913713405239]"
      ]
     },
     "execution_count": 49,
     "metadata": {},
     "output_type": "execute_result"
    }
   ],
   "source": [
    "all_growth"
   ]
  },
  {
   "cell_type": "code",
   "execution_count": 29,
   "id": "1190b34b-2ebf-4fc1-9bff-f8426858eda6",
   "metadata": {},
   "outputs": [
    {
     "data": {
      "text/plain": [
       "[0.06947062954030289,\n",
       " 0.343990358816531,\n",
       " -0.09369069208476541,\n",
       " 0.31155553864917107,\n",
       " -0.00028664741287015626,\n",
       " -0.09169752920234994,\n",
       " -0.16579093655021898,\n",
       " -0.1986759937147375,\n",
       " 0.013241608932668065]"
      ]
     },
     "execution_count": 29,
     "metadata": {},
     "output_type": "execute_result"
    }
   ],
   "source": [
    "all_growth"
   ]
  },
  {
   "cell_type": "code",
   "execution_count": null,
   "id": "03277eff-07f9-424f-8106-edb067d0a268",
   "metadata": {},
   "outputs": [],
   "source": [
    "(0.343990358816531 - 0.31155553864917107) / "
   ]
  },
  {
   "cell_type": "code",
   "execution_count": 30,
   "id": "7b20d11e-a325-43e9-a6db-806d0b02482b",
   "metadata": {
    "tags": []
   },
   "outputs": [
    {
     "data": {
      "text/plain": [
       "[0.06947062954030289,\n",
       " 0.343990358816531,\n",
       " -0.09369069208476541,\n",
       " 0.31155553864917107,\n",
       " -0.00028664741287015626,\n",
       " -0.09169752920234994,\n",
       " -0.16579093655021898,\n",
       " -0.1986759937147375,\n",
       " 0.013241608932668065]"
      ]
     },
     "execution_count": 30,
     "metadata": {},
     "output_type": "execute_result"
    }
   ],
   "source": [
    "# Cap the extreme growth rates for a more conservative approach\n",
    "# Not the extrem drops since it'll help put numbers down\n",
    "q1 = np.quantile(all_growth, 0.25)\n",
    "q3 = np.quantile(all_growth, 0.75)\n",
    "iqr = q3 - q1\n",
    "lower_bound = q1 - 3*iqr\n",
    "upper_bound = q3 + 3*iqr\n",
    "\n",
    "all_growth_wo_extremes = [min(element, upper_bound) for element in all_growth]# if lower_bound < element < upper_bound]\n",
    "all_growth_wo_extremes"
   ]
  },
  {
   "cell_type": "code",
   "execution_count": 31,
   "id": "79bb1dd9-f0e6-488e-8ed9-59916434b388",
   "metadata": {},
   "outputs": [
    {
     "data": {
      "text/plain": [
       "(-0.5831746569599703, 0.5589545944155078)"
      ]
     },
     "execution_count": 31,
     "metadata": {},
     "output_type": "execute_result"
    }
   ],
   "source": [
    "lower_bound, upper_bound"
   ]
  },
  {
   "cell_type": "code",
   "execution_count": 32,
   "id": "9e3ceba6-36cd-4181-821f-2fe9e3cae1d0",
   "metadata": {},
   "outputs": [],
   "source": [
    "growth_value = np.mean(all_growth_wo_extremes)#np.mean(all_growth)"
   ]
  },
  {
   "cell_type": "code",
   "execution_count": 53,
   "id": "3a34c220-e578-4c31-ba6f-2191a88b9660",
   "metadata": {},
   "outputs": [
    {
     "data": {
      "text/plain": [
       "0.5906466949726956"
      ]
     },
     "execution_count": 53,
     "metadata": {},
     "output_type": "execute_result"
    }
   ],
   "source": [
    "growth_value"
   ]
  },
  {
   "cell_type": "code",
   "execution_count": 33,
   "id": "1ed376b5-6cfc-43ec-b8ad-e867c11b692e",
   "metadata": {},
   "outputs": [
    {
     "data": {
      "text/plain": [
       "0.020901815219303448"
      ]
     },
     "execution_count": 33,
     "metadata": {},
     "output_type": "execute_result"
    }
   ],
   "source": [
    "growth_value"
   ]
  },
  {
   "cell_type": "code",
   "execution_count": 35,
   "id": "42253386-fab4-4cb9-81a4-f5efff670c7f",
   "metadata": {
    "tags": []
   },
   "outputs": [
    {
     "data": {
      "text/plain": [
       "(0.011843494097348566,\n",
       " 0.017439319238293262,\n",
       " 0.00624766895640387,\n",
       " 0.02686135979044214)"
      ]
     },
     "execution_count": 35,
     "metadata": {},
     "output_type": "execute_result"
    }
   ],
   "source": [
    "growth_5y = (all_growth_wo_extremes[0] - all_growth_wo_extremes[4]) / 4\n",
    "growth_10y = (all_growth_wo_extremes[0] - all_growth_wo_extremes[-1]) / 9\n",
    " \n",
    "(growth_5y + growth_10y) / 2, growth_5y, growth_10y, (all_growth_wo_extremes[0] - all_growth_wo_extremes[-4]) / 6"
   ]
  },
  {
   "cell_type": "code",
   "execution_count": 38,
   "id": "32d1113f-a741-46f7-bdbd-cf7e930c4fc9",
   "metadata": {},
   "outputs": [
    {
     "data": {
      "text/plain": [
       "((0.9960918112851872+1.3949810516068974j),\n",
       " (1.7899621032137953+2.789962103213795j),\n",
       " 0.20222151935657906,\n",
       " (0.8268712624631954+0.4773943459682915j))"
      ]
     },
     "execution_count": 38,
     "metadata": {},
     "output_type": "execute_result"
    }
   ],
   "source": [
    "growth_5y = (all_growth_wo_extremes[0] / all_growth_wo_extremes[4]) ** (1/4) - 1\n",
    "growth_10y = (all_growth_wo_extremes[0] / all_growth_wo_extremes[-1]) ** (1/9) - 1\n",
    "\n",
    "(growth_5y + growth_10y) / 2, growth_5y, growth_10y, (all_growth_wo_extremes[0] / all_growth_wo_extremes[-4]) ** (1/6)"
   ]
  },
  {
   "cell_type": "code",
   "execution_count": 61,
   "id": "9565c216-4898-48d6-8edd-02c2ecb167f3",
   "metadata": {},
   "outputs": [],
   "source": [
    "# using methods"
   ]
  },
  {
   "cell_type": "code",
   "execution_count": 60,
   "id": "627ec367-b272-41e0-a977-3e7cba817851",
   "metadata": {},
   "outputs": [
    {
     "name": "stderr",
     "output_type": "stream",
     "text": [
      "/var/folders/mr/pm_1h_jn1gs2n48rx1j1ygsr0000gn/T/ipykernel_9088/3436755680.py:3: DeprecationWarning: cafile, capath and cadefault are deprecated, use a custom context instead.\n",
      "  response_income_stmt = urlopen(url_income_stmt, cafile=certifi.where())\n"
     ]
    },
    {
     "data": {
      "text/plain": [
       "0.5906466949726956"
      ]
     },
     "execution_count": 60,
     "metadata": {},
     "output_type": "execute_result"
    }
   ],
   "source": [
    "ticker = \"CTHR\"\n",
    "data_income_stmt = get_income_stmt_info(ticker=ticker, nb_years=10)\n",
    "all_eps = get_key_from_iterator(iterator=data_income_stmt, key=\"eps\")\n",
    "all_growth = compute_historical_growth(all_eps)\n",
    "all_growth = drop_nans(all_growth)\n",
    "lower_bound, upper_bound = compute_stat_bound(all_growth, distance=3)\n",
    "all_growth_wo_extremes = [min(element, upper_bound) for element in all_growth]\n",
    "growth_value = compute_avg_value(all_growth_wo_extremes)\n",
    "growth_value"
   ]
  },
  {
   "cell_type": "markdown",
   "id": "629d94be-30bb-416a-bb5f-b8da2cf6733a",
   "metadata": {},
   "source": [
    "#### Future PE"
   ]
  },
  {
   "cell_type": "code",
   "execution_count": 16,
   "id": "d86f884a-9c3b-4554-b0ce-41c90f3820db",
   "metadata": {},
   "outputs": [
    {
     "name": "stderr",
     "output_type": "stream",
     "text": [
      "/var/folders/mr/pm_1h_jn1gs2n48rx1j1ygsr0000gn/T/ipykernel_9088/3319864374.py:10: DeprecationWarning: cafile, capath and cadefault are deprecated, use a custom context instead.\n",
      "  response_prices = urlopen(url_prices, cafile=certifi.where())\n"
     ]
    }
   ],
   "source": [
    "# The reporting of a period is expected between 30 - 45 days after the ending of that period\n",
    "all_prices = []\n",
    "for single_income_stmt in data_income_stmt[::-1]:\n",
    "    reporting_window_start = pd.to_datetime(single_income_stmt[\"date\"]) + pd.DateOffset(days=30)\n",
    "    reporting_window_start = str(reporting_window_start.date())\n",
    "    reporting_window_end = pd.to_datetime(single_income_stmt[\"date\"]) + pd.DateOffset(days=46)\n",
    "    reporting_window_end = str(reporting_window_end.date())\n",
    "    \n",
    "    url_prices =  f\"https://financialmodelingprep.com/api/v3/historical-price-full/{ticker}?from={reporting_window_start}&to={reporting_window_end}&apikey={KEY}\"\n",
    "    response_prices = urlopen(url_prices, cafile=certifi.where())\n",
    "    data_prices = response_prices.read().decode(\"utf-8\")\n",
    "    data_prices = json.loads(data_prices)\n",
    "    \n",
    "    price_at_report = np.mean([element[\"low\"] for element in data_prices[\"historical\"]])\n",
    "    \n",
    "    all_prices.append(price_at_report)"
   ]
  },
  {
   "cell_type": "code",
   "execution_count": 17,
   "id": "16ebc1f2-658c-4537-8e73-0c85a29a55d4",
   "metadata": {},
   "outputs": [
    {
     "data": {
      "text/plain": [
       "[3.7731538461538467,\n",
       " 4.059833333333333,\n",
       " 1.6518181818181816,\n",
       " 0.8430099999999999,\n",
       " 0.9940923076923075,\n",
       " 1.3241153846153846,\n",
       " 1.430392307692308,\n",
       " 0.6971416666666667,\n",
       " 2.601818181818182,\n",
       " 1.3108909090909093]"
      ]
     },
     "execution_count": 17,
     "metadata": {},
     "output_type": "execute_result"
    }
   ],
   "source": [
    "all_prices"
   ]
  },
  {
   "cell_type": "code",
   "execution_count": 18,
   "id": "3fcb6136-04af-4641-a0f9-516ed3829c30",
   "metadata": {},
   "outputs": [
    {
     "data": {
      "text/plain": [
       "[47.164423076923086,\n",
       " 9.226893939393937,\n",
       " 0,\n",
       " 8.4301,\n",
       " 0,\n",
       " 0,\n",
       " 0,\n",
       " 0,\n",
       " 0,\n",
       " 5.6995256916996055]"
      ]
     },
     "execution_count": 18,
     "metadata": {},
     "output_type": "execute_result"
    }
   ],
   "source": [
    "# I don't like a pe of zero cuz we mask very big drops that could hide info\n",
    "historical_pe = list(np.array(all_prices) / np.array(all_eps))\n",
    "historical_pe = [val if val > 0 else 0 for val in historical_pe]\n",
    "historical_pe"
   ]
  },
  {
   "cell_type": "code",
   "execution_count": 19,
   "id": "12825898-8791-42b5-8c46-95a99d52d602",
   "metadata": {},
   "outputs": [],
   "source": [
    "future_pe = np.mean(historical_pe)"
   ]
  },
  {
   "cell_type": "code",
   "execution_count": 20,
   "id": "2bf8e9d9-ab29-475a-84eb-f9d74c036590",
   "metadata": {},
   "outputs": [
    {
     "data": {
      "text/plain": [
       "7.052094270801663"
      ]
     },
     "execution_count": 20,
     "metadata": {},
     "output_type": "execute_result"
    }
   ],
   "source": [
    "future_pe"
   ]
  },
  {
   "cell_type": "code",
   "execution_count": 62,
   "id": "5f9b6f4e-47bd-43a3-a87f-80f36f1de4f2",
   "metadata": {},
   "outputs": [],
   "source": [
    "def get_reporting_window(financial_info: Dict[str, Any]) -> Tuple[str, str]:\n",
    "    last_report_date = financial_info[\"date\"]\n",
    "    window_start = pd.to_datetime(last_report_date) + pd.DateOffset(days=30)\n",
    "    window_start = str(window_start.date())\n",
    "    window_end = pd.to_datetime(last_report_date) + pd.DateOffset(days=46)\n",
    "    window_end = str(window_end.date())\n",
    "    return window_start, window_end\n",
    "\n",
    "def get_prices_in_range(ticker: str, window_start: str, window_end: str) -> List[Dict[str, Any]]:\n",
    "    url_prices =  f\"https://financialmodelingprep.com/api/v3/historical-price-full/{ticker}?from={window_start}&to={window_end}&apikey={KEY}\"\n",
    "    response_prices = urlopen(url_prices, cafile=certifi.where())\n",
    "    data_prices = response_prices.read().decode(\"utf-8\")\n",
    "    data_prices = json.loads(data_prices)\n",
    "    return data_prices\n",
    "\n",
    "def handling_negative_pe(iterator: List[float]) -> List[float]:\n",
    "    positive_historical_pe = [val if val > 0 else 0 for val in iterator]\n",
    "    return positive_historical_pe"
   ]
  },
  {
   "cell_type": "code",
   "execution_count": 63,
   "id": "b0694019-4604-40b1-bfa7-0c4a6db3fb3b",
   "metadata": {},
   "outputs": [],
   "source": [
    "# using methods"
   ]
  },
  {
   "cell_type": "code",
   "execution_count": 69,
   "id": "45c08eac-179e-4a7e-800e-532b4a97dc04",
   "metadata": {},
   "outputs": [
    {
     "data": {
      "text/plain": [
       "{'date': '2022-06-30',\n",
       " 'symbol': 'CTHR',\n",
       " 'reportedCurrency': 'USD',\n",
       " 'cik': '0001015155',\n",
       " 'fillingDate': '2022-09-02',\n",
       " 'acceptedDate': '2022-09-01 17:53:25',\n",
       " 'calendarYear': '2022',\n",
       " 'period': 'FY',\n",
       " 'revenue': 43089024,\n",
       " 'costOfRevenue': 22845702,\n",
       " 'grossProfit': 20243322,\n",
       " 'grossProfitRatio': 0.4698022865,\n",
       " 'researchAndDevelopmentExpenses': 0,\n",
       " 'generalAndAdministrativeExpenses': 4948980,\n",
       " 'sellingAndMarketingExpenses': 12421138,\n",
       " 'sellingGeneralAndAdministrativeExpenses': 17370118,\n",
       " 'otherExpenses': 0,\n",
       " 'operatingExpenses': 17370118,\n",
       " 'costAndExpenses': 40215820,\n",
       " 'interestIncome': 19277,\n",
       " 'interestExpense': 19277,\n",
       " 'depreciationAndAmortization': 498585,\n",
       " 'ebitda': 3371789,\n",
       " 'ebitdaratio': 0.0782516912,\n",
       " 'operatingIncome': 2873204,\n",
       " 'operatingIncomeRatio': 0.066680647,\n",
       " 'totalOtherIncomeExpensesNet': 19243,\n",
       " 'incomeBeforeTax': 2892447,\n",
       " 'incomeBeforeTaxRatio': 0.0671272341,\n",
       " 'incomeTaxExpense': 518532,\n",
       " 'netIncome': 2373915,\n",
       " 'netIncomeRatio': 0.0550932646,\n",
       " 'eps': 0.08,\n",
       " 'epsdiluted': 0.08,\n",
       " 'weightedAverageShsOut': 30363076,\n",
       " 'weightedAverageShsOutDil': 31316028,\n",
       " 'link': 'https://www.sec.gov/Archives/edgar/data/1015155/000114036122032047/0001140361-22-032047-index.htm',\n",
       " 'finalLink': 'https://www.sec.gov/Archives/edgar/data/1015155/000114036122032047/brhc10041087_10k.htm'}"
      ]
     },
     "execution_count": 69,
     "metadata": {},
     "output_type": "execute_result"
    }
   ],
   "source": [
    "single_income_stmt"
   ]
  },
  {
   "cell_type": "code",
   "execution_count": 68,
   "id": "a3e00de4-2b14-408e-b884-2b11fafb0561",
   "metadata": {},
   "outputs": [
    {
     "name": "stderr",
     "output_type": "stream",
     "text": [
      "/var/folders/mr/pm_1h_jn1gs2n48rx1j1ygsr0000gn/T/ipykernel_9088/4105581361.py:11: DeprecationWarning: cafile, capath and cadefault are deprecated, use a custom context instead.\n",
      "  response_prices = urlopen(url_prices, cafile=certifi.where())\n"
     ]
    },
    {
     "data": {
      "text/plain": [
       "7.052094270801663"
      ]
     },
     "execution_count": 68,
     "metadata": {},
     "output_type": "execute_result"
    }
   ],
   "source": [
    "all_prices = []\n",
    "for single_income_stmt in data_income_stmt[::-1]:\n",
    "    reporting_start, reporting_end = get_reporting_window(single_income_stmt)\n",
    "    data_prices = get_prices_in_range(ticker,  reporting_start, reporting_end)\n",
    "    range_price_lows = get_key_from_iterator(data_prices[\"historical\"], \"low\")\n",
    "    avg_price_at_report = compute_avg_value(range_price_lows)\n",
    "    all_prices.append(avg_price_at_report)\n",
    "    \n",
    "historical_pe = list(np.array(all_prices) / np.array(all_eps))\n",
    "historical_pe = handling_negative_pe(historical_pe)\n",
    "future_pe = compute_avg_value(historical_pe)\n",
    "future_pe"
   ]
  },
  {
   "cell_type": "markdown",
   "id": "2b8126e2-6382-4f50-89dc-f7c134866982",
   "metadata": {},
   "source": [
    "#### Years"
   ]
  },
  {
   "cell_type": "code",
   "execution_count": 21,
   "id": "4b684a75-1b47-4da2-be01-7dfd6d895e7a",
   "metadata": {},
   "outputs": [],
   "source": [
    "years = 7"
   ]
  },
  {
   "cell_type": "markdown",
   "id": "495e127b-2514-43da-b3c3-dee7871f427b",
   "metadata": {},
   "source": [
    "#### Calculations\n",
    "\n",
    "Reminder:\n",
    "\n",
    "* $FP = EPS \\cdot (1 + Growth)^{Years} \\cdot PE$\n",
    "\n",
    "* $PFV = \\frac{FP}{(1 + Return)^{Years}}$"
   ]
  },
  {
   "cell_type": "code",
   "execution_count": 27,
   "id": "4261f2d4-a5e2-4302-9713-be2e29ad4c66",
   "metadata": {},
   "outputs": [],
   "source": [
    "eps = all_eps[0] # latest yearly EPS\n",
    "\n",
    "fp = eps * ((1 + growth_value) ** years) * future_pe\n",
    "pfv = fp / ((1 + return_value) ** years)"
   ]
  },
  {
   "cell_type": "code",
   "execution_count": 28,
   "id": "2bbe60c9-0204-4fad-979a-d73d3874cd2e",
   "metadata": {},
   "outputs": [
    {
     "name": "stdout",
     "output_type": "stream",
     "text": [
      "Present Faire Value:   4.06\n",
      "Buying Price:          2.03\n"
     ]
    }
   ],
   "source": [
    "buy_price = pfv * 0.5\n",
    "print(f\"Present Faire Value:   {round(pfv, 2)}\")\n",
    "print(f\"Buying Price:          {round(buy_price, 2)}\")"
   ]
  },
  {
   "cell_type": "markdown",
   "id": "2f6eb720-9111-4d60-9ac8-e47accc6a51c",
   "metadata": {},
   "source": [
    "**NOTES** : \n",
    "\n",
    "* The higher the future PE ratio the higher the present faire value. -> Choose a conservative PE ratio\n",
    "* The higher the number of years the higher the present faire value (assuming the same number of years considered for both future price and present faire value). -> Choose a mid-term horizon\n",
    "* For a fixed rate of return (return_value), the greater the growth_value the greater the present faire value. -> Choose a conservative growth value\n",
    "* For a fixed growth_value, the greater the rate of return the lower the present faire value. -> Choose a slightly high rate of return"
   ]
  },
  {
   "cell_type": "code",
   "execution_count": 31,
   "id": "dc1ea9bf-6efe-4455-87aa-13711c921bca",
   "metadata": {},
   "outputs": [],
   "source": [
    "pfv_conservative = compute_pex_value_handler(eps, growth_value, return_value, future_pe, years)"
   ]
  },
  {
   "cell_type": "code",
   "execution_count": 32,
   "id": "f3e5fe05-606b-4443-9762-718075a32ede",
   "metadata": {},
   "outputs": [
    {
     "name": "stdout",
     "output_type": "stream",
     "text": [
      "Present Faire Value:   1.66\n",
      "Buying Price:          0.83\n"
     ]
    }
   ],
   "source": [
    "buy_price_conservative = pfv_conservative * 0.5\n",
    "print(f\"Present Faire Value:   {round(pfv_conservative, 2)}\")\n",
    "print(f\"Buying Price:          {round(buy_price_conservative, 2)}\")"
   ]
  },
  {
   "cell_type": "markdown",
   "id": "442f5386-e668-495f-b29a-d0ffedb97b8f",
   "metadata": {},
   "source": [
    "#### Next steps\n",
    "\n",
    "* Compute the growth with the equity instead of the eps\n",
    "* Compute the PE with the fillinDate instead of the range of dates selected by hand\n",
    "* Information of the last 10 years to plot:\n",
    "    * pfv\n",
    "    * Equity (book value)\n",
    "    * Tangible book value\n",
    "    * Current ratio\n",
    "    * Shares outstanding\n",
    "    * PE ratio\n",
    "    * The 3 DE ratios"
   ]
  },
  {
   "cell_type": "code",
   "execution_count": 74,
   "id": "d4eaaf60-236c-49cd-b587-8acbba76bbfd",
   "metadata": {},
   "outputs": [],
   "source": [
    "data_balance_sheet = response_balance_sheet.read().decode(\"utf-8\")\n",
    "data_balance_sheet = json.loads(data_balance_sheet)"
   ]
  },
  {
   "cell_type": "code",
   "execution_count": 105,
   "id": "141f5346-64d6-4184-9365-3300d663dc4a",
   "metadata": {},
   "outputs": [],
   "source": [
    "def compute_pex_value(deco, growth_value, return_value, future_pe, years) -> float:\n",
    "    eps = deco.get(\"eps\", 0)\n",
    "    pfv = compute_pex_value_handler(\n",
    "        eps, growth_value, return_value, future_pe, years\n",
    "    )\n",
    "    return pfv"
   ]
  },
  {
   "cell_type": "code",
   "execution_count": 109,
   "id": "7a59c774-fcb2-4133-a53a-fd0a28bbd547",
   "metadata": {},
   "outputs": [],
   "source": [
    "def compute_tangible_book_value(deco):\n",
    "    if \"goodwillAndIntangibleAssets\" not in deco:\n",
    "        intangible_assets = deco.get(\"goodwill\", 0) + deco.get(\"intangibleAssets\", 0)\n",
    "    else:\n",
    "        intangible_assets = deco.get(\"goodwillAndIntangibleAssets\", 0)\n",
    "    tangible_assets = deco.get(\"totalAssets\") - intangible_assets\n",
    "    tangible_book_value = tangible_assets - deco.get(\"totalLiab\", 0)\n",
    "    return tangible_book_value\n",
    "\n",
    "def compute_tangible_book_value_ps(deco):\n",
    "    tangible_book_value = compute_tangible_book_value(deco)\n",
    "    nb_outs_shares = deco.get(\"weightedAverageShsOutDil\", np.Inf)\n",
    "    return tangible_book_value / nb_outs_shares\n",
    "\n",
    "def compute_discounted_tangible_book_value(deco, factors_deco):\n",
    "    if \"goodwillAndIntangibleAssets\" not in deco:\n",
    "        intangible_assets = deco.get(\"goodwill\", 0) + deco.get(\"intangibleAssets\", 0)\n",
    "    else:\n",
    "        intangible_assets = deco.get(\"goodwillAndIntangibleAssets\", 0)\n",
    "    discounted_tangible_assets = (\n",
    "        deco.get(\"totalAssets\") - intangible_assets - (\n",
    "            (1 - factors_deco[\"receivables_factor\"]) * deco.get(\"netReceivables\", 0) +\n",
    "            (1 - factors_deco[\"inventory_factor\"]) * deco.get(\"inventory\", 0) +\n",
    "            (1 - factors_deco[\"ppe_factor\"]) * deco.get(\"propertyPlantEquipmentNet\", 0)\n",
    "        )\n",
    "    )\n",
    "    discounted_tangible_book_value = discounted_tangible_assets - deco.get(\"totalLiab\", 0)\n",
    "    return discounted_tangible_book_value\n",
    "\n",
    "def compute_discounted_tangible_book_value_ps(deco, factors_deco):\n",
    "    tangible_book_value = compute_discounted_tangible_book_value(deco, factors_deco)\n",
    "    nb_outs_shares = deco.get(\"weightedAverageShsOutDil\", np.Inf)\n",
    "    return tangible_book_value / nb_outs_shares"
   ]
  },
  {
   "cell_type": "code",
   "execution_count": 97,
   "id": "37ebfb3d-4dc6-4f5e-a392-6928ac8b90f6",
   "metadata": {},
   "outputs": [],
   "source": [
    "def compute_current_ratio(deco) -> float:\n",
    "    return deco.get(\"totalCurrentAssets\", 0) / (deco.get(\"totalCurrentLiabilities\", 0) + 0.1)"
   ]
  },
  {
   "cell_type": "code",
   "execution_count": 98,
   "id": "6aced026-3063-44c9-8802-06148659779a",
   "metadata": {},
   "outputs": [],
   "source": [
    "def compute_price_at_reporting_date(deco):\n",
    "    filling_date = deco.get(\"filling_date\", None)\n",
    "    if filling_date is None:\n",
    "        # if we don't have a filling date we will take a window of 30 - 45 days for the price\n",
    "        reporting_start, reporting_end = get_reporting_window(single_income_stmt)\n",
    "        data_prices = get_prices_in_range(ticker,  reporting_start, reporting_end)\n",
    "        range_price_lows = get_key_from_iterator(data_prices[\"historical\"], \"low\")\n",
    "        avg_price_at_report = compute_avg_value(range_price_lows)\n",
    "    else:\n",
    "        # if we have a filling date we will take the price from that day and the following trading day\n",
    "        reporting_start = filling_date\n",
    "        reporting_datetime = pd.to_datetime(filling_date) + + pd.DateOffset(days=3)\n",
    "        reporting_end = str(reporting_datetime.date())\n",
    "        data_prices = get_prices_in_range(ticker,  reporting_start, reporting_end)\n",
    "        data_prices = data_prices[:2]\n",
    "        range_price_lows = get_key_from_iterator(data_prices[\"historical\"], \"low\")\n",
    "        avg_price_at_report = compute_avg_value(range_price_lows)\n",
    "    return avg_price_at_report\n",
    "\n",
    "def compute_pe_ratio(deco):\n",
    "    eps = deco.get(\"eps\", 0)\n",
    "    pps = deco.get(\"reporting_date_price\", 0)\n",
    "    return eps/pps"
   ]
  },
  {
   "cell_type": "code",
   "execution_count": 112,
   "id": "fb2da03d-eaea-484a-b13e-56c2bf72cf8a",
   "metadata": {},
   "outputs": [],
   "source": [
    "def compute_de_ratio1(deco) -> float:\n",
    "    return deco[\"totalLiabilities\"] / (deco[\"totalStockholdersEquity\"] + 0.1)\n",
    "\n",
    "def compute_de_ratio2(deco) -> float:\n",
    "    return deco[\"totalCurrentLiabilities\"] / (deco[\"totalStockholdersEquity\"] + 0.1)\n",
    "\n",
    "def compute_de_ratio3(deco) -> float:\n",
    "    return deco[\"totalDebt\"] / (deco[\"totalStockholdersEquity\"] + 0.1)"
   ]
  },
  {
   "cell_type": "code",
   "execution_count": 139,
   "id": "b3b2ba5e-f371-4552-a215-7d741679a7ab",
   "metadata": {},
   "outputs": [],
   "source": [
    "def plot_indicators(df: pd.DataFrame) -> None:\n",
    "    fig, ax = plt.subplots(1, 10, figsize=(26, 3.5))\n",
    "    fs_df[\"pfvps\"].plot.bar(ax=ax[0], title = \"pfvps\")\n",
    "    df[\"totalEquity\"].plot.bar(ax=ax[1], title = \"total equity\")\n",
    "    df[\"tangible_book_value_ps\"].plot.bar(ax=ax[2], title = \"tangible book value\")\n",
    "    df[\"dct_tangible_book_value_ps\"].plot.bar(ax=ax[3], title = \"dct tangible book value\")\n",
    "    min_ylim, max_ylim = (\n",
    "        min(df[\"tangible_book_value_ps\"].min(), df[\"dct_tangible_book_value_ps\"].min()),\n",
    "        max(df[\"tangible_book_value_ps\"].max(), df[\"dct_tangible_book_value_ps\"].max()),\n",
    "    )\n",
    "    del min_ylim\n",
    "    del max_ylim\n",
    "    df[\"current_ratio\"].plot.bar(ax=ax[4], title = \"current ratio\")\n",
    "    df[\"weightedAverageShsOutDil\"].plot.bar(ax=ax[5], title = \"shares outs\")\n",
    "    df[\"pe_ratio\"].plot.bar(ax=ax[6], title = \"pe ratio\")\n",
    "    df[\"de_ratio1\"].plot.bar(ax=ax[7], title = \"total liab / shares outs\")\n",
    "    df[\"de_ratio2\"].plot.bar(ax=ax[8], title = \"current liab / shares outs\")\n",
    "    df[\"de_ratio3\"].plot.bar(ax=ax[9], title = \"total debt / shares outs\")\n",
    "    min_ylim, max_ylim = (\n",
    "        min(df[\"de_ratio1\"].min(), df[\"de_ratio2\"].min(), df[\"de_ratio3\"].min()),\n",
    "        max(df[\"de_ratio1\"].max(), df[\"de_ratio2\"].max(), df[\"de_ratio3\"].max())\n",
    "    )\n",
    "    ax[7].set_ylim([min_ylim, max_ylim])\n",
    "    ax[8].set_ylim([min_ylim, max_ylim])\n",
    "    ax[9].set_ylim([min_ylim, max_ylim])\n",
    "    del min_ylim\n",
    "    del max_ylim\n",
    "    plt.tight_layout()\n",
    "    plt.show()"
   ]
  },
  {
   "cell_type": "code",
   "execution_count": 140,
   "id": "d26063f9-e1fe-4dae-829d-3075665e2478",
   "metadata": {},
   "outputs": [
    {
     "name": "stderr",
     "output_type": "stream",
     "text": [
      "/var/folders/mr/pm_1h_jn1gs2n48rx1j1ygsr0000gn/T/ipykernel_9088/2435095414.py:7: DeprecationWarning: cafile, capath and cadefault are deprecated, use a custom context instead.\n",
      "  response_balance_sheet = urlopen(url_balance_sheet, cafile=certifi.where())\n",
      "/var/folders/mr/pm_1h_jn1gs2n48rx1j1ygsr0000gn/T/ipykernel_9088/2435095414.py:8: DeprecationWarning: cafile, capath and cadefault are deprecated, use a custom context instead.\n",
      "  response_income_stmt = urlopen(url_income_stmt, cafile=certifi.where())\n",
      "/var/folders/mr/pm_1h_jn1gs2n48rx1j1ygsr0000gn/T/ipykernel_9088/4105581361.py:11: DeprecationWarning: cafile, capath and cadefault are deprecated, use a custom context instead.\n",
      "  response_prices = urlopen(url_prices, cafile=certifi.where())\n"
     ]
    },
    {
     "name": "stdout",
     "output_type": "stream",
     "text": [
      "CTHR\n"
     ]
    },
    {
     "data": {
      "image/png": "[encoded data removed]",
      "text/plain": [
       "<Figure size 2600x350 with 10 Axes>"
      ]
     },
     "metadata": {},
     "output_type": "display_data"
    }
   ],
   "source": [
    "for ticker in [\"CTHR\"]:\n",
    "    # define urls\n",
    "    url_balance_sheet = f\"https://financialmodelingprep.com/api/v3/balance-sheet-statement/{ticker}?limit=10&apikey={KEY}\"\n",
    "    url_income_stmt = f\"https://financialmodelingprep.com/api/v3/income-statement/{ticker}?limit=10&apikey={KEY}\"\n",
    "    try:\n",
    "        # load data\n",
    "        response_balance_sheet = urlopen(url_balance_sheet, cafile=certifi.where())\n",
    "        response_income_stmt = urlopen(url_income_stmt, cafile=certifi.where())\n",
    "    except:\n",
    "        missed_tickers.append(ticker)\n",
    "    data_balance_sheet = response_balance_sheet.read().decode(\"utf-8\")\n",
    "    data_balance_sheet = json.loads(data_balance_sheet)\n",
    "    if len(data_balance_sheet) < 5:\n",
    "        continue\n",
    "\n",
    "    data_income_stmt = response_income_stmt.read().decode(\"utf-8\")\n",
    "    data_income_stmt = json.loads(data_income_stmt)\n",
    "    if len(data_income_stmt) < 5:\n",
    "        continue\n",
    "        \n",
    "    balance_sheet_df = pd.DataFrame(data_balance_sheet)\n",
    "    income_stmt_df = pd.DataFrame(data_income_stmt)\n",
    "    balance_sheet_df = balance_sheet_df.set_index(\"date\")\n",
    "    income_stmt_df = income_stmt_df.set_index(\"date\")\n",
    "    balance_sheet_df = balance_sheet_df[bs_cols]\n",
    "    income_stmt_df = income_stmt_df[is_cols]\n",
    "\n",
    "    fs_df = pd.concat([balance_sheet_df, income_stmt_df], axis=1, join=\"inner\")\n",
    "    fs_df = fs_df.iloc[::-1] # from oldest to newest\n",
    "    # compute PFV\n",
    "    fs_df[\"pfvps\"] = fs_df.apply(compute_pex_value, args=(growth_value, return_value, future_pe, years,), axis=1)\n",
    "    # compute tangible book value per share\n",
    "    fs_df[\"tangible_book_value_ps\"] = fs_df.apply(compute_tangible_book_value_ps, axis=1)\n",
    "    # compute discounted tangible book value per share\n",
    "    fs_df[\"dct_tangible_book_value_ps\"] = fs_df.apply(compute_discounted_tangible_book_value_ps, args=(current_assets_factors, ), axis=1)\n",
    "    # compute current ratio\n",
    "    fs_df[\"current_ratio\"] = fs_df.apply(compute_current_ratio, axis=1)\n",
    "    # get price at report date\n",
    "    fs_df[\"reporting_date_price\"] = fs_df.apply(compute_price_at_reporting_date, axis=1)\n",
    "    # compute pe ratio\n",
    "    fs_df[\"pe_ratio\"] = fs_df.apply(compute_pe_ratio, axis=1)\n",
    "    # compute de ratio 1\n",
    "    fs_df[\"de_ratio1\"] = fs_df.apply(compute_de_ratio1, axis=1)\n",
    "    # compute de ratio 2\n",
    "    fs_df[\"de_ratio2\"] = fs_df.apply(compute_de_ratio2, axis=1)\n",
    "    # compute de ratio 3\n",
    "    fs_df[\"de_ratio3\"] = fs_df.apply(compute_de_ratio3, axis=1)\n",
    "\n",
    "    # plot indicators\n",
    "    print(ticker)\n",
    "    plot_indicators(fs_df)"
   ]
  },
  {
   "cell_type": "code",
   "execution_count": 117,
   "id": "66894f2c-d48d-4911-ad1d-662fe7ac8709",
   "metadata": {},
   "outputs": [
    {
     "data": {
      "text/html": [
       "<div>\n",
       "<style scoped>\n",
       "    .dataframe tbody tr th:only-of-type {\n",
       "        vertical-align: middle;\n",
       "    }\n",
       "\n",
       "    .dataframe tbody tr th {\n",
       "        vertical-align: top;\n",
       "    }\n",
       "\n",
       "    .dataframe thead th {\n",
       "        text-align: right;\n",
       "    }\n",
       "</style>\n",
       "<table border=\"1\" class=\"dataframe\">\n",
       "  <thead>\n",
       "    <tr style=\"text-align: right;\">\n",
       "      <th></th>\n",
       "      <th>fillingDate</th>\n",
       "      <th>symbol</th>\n",
       "      <th>totalEquity</th>\n",
       "      <th>totalCurrentAssets</th>\n",
       "      <th>totalAssets</th>\n",
       "      <th>totalCurrentLiabilities</th>\n",
       "      <th>totalLiabilities</th>\n",
       "      <th>totalStockholdersEquity</th>\n",
       "      <th>totalDebt</th>\n",
       "      <th>goodwillAndIntangibleAssets</th>\n",
       "      <th>...</th>\n",
       "      <th>weightedAverageShsOutDil</th>\n",
       "      <th>pfvps</th>\n",
       "      <th>tangible_book_value_ps</th>\n",
       "      <th>dct_tangible_book_value_ps</th>\n",
       "      <th>current_ratio</th>\n",
       "      <th>reporting_date_price</th>\n",
       "      <th>pe_ratio</th>\n",
       "      <th>de_ratio1</th>\n",
       "      <th>de_ratio2</th>\n",
       "      <th>de_ratio3</th>\n",
       "    </tr>\n",
       "    <tr>\n",
       "      <th>date</th>\n",
       "      <th></th>\n",
       "      <th></th>\n",
       "      <th></th>\n",
       "      <th></th>\n",
       "      <th></th>\n",
       "      <th></th>\n",
       "      <th></th>\n",
       "      <th></th>\n",
       "      <th></th>\n",
       "      <th></th>\n",
       "      <th></th>\n",
       "      <th></th>\n",
       "      <th></th>\n",
       "      <th></th>\n",
       "      <th></th>\n",
       "      <th></th>\n",
       "      <th></th>\n",
       "      <th></th>\n",
       "      <th></th>\n",
       "      <th></th>\n",
       "      <th></th>\n",
       "    </tr>\n",
       "  </thead>\n",
       "  <tbody>\n",
       "    <tr>\n",
       "      <th>2012-12-31</th>\n",
       "      <td>2013-03-29</td>\n",
       "      <td>CTHR</td>\n",
       "      <td>56677176</td>\n",
       "      <td>30751615</td>\n",
       "      <td>59972414</td>\n",
       "      <td>2887107</td>\n",
       "      <td>3295238</td>\n",
       "      <td>56677176</td>\n",
       "      <td>0</td>\n",
       "      <td>346732</td>\n",
       "      <td>...</td>\n",
       "      <td>19967271</td>\n",
       "      <td>4.771704</td>\n",
       "      <td>2.986171</td>\n",
       "      <td>2.986171</td>\n",
       "      <td>10.651359</td>\n",
       "      <td>1.310891</td>\n",
       "      <td>0.175453</td>\n",
       "      <td>0.058140</td>\n",
       "      <td>0.050939</td>\n",
       "      <td>0.000000</td>\n",
       "    </tr>\n",
       "    <tr>\n",
       "      <th>2013-12-31</th>\n",
       "      <td>2014-03-27</td>\n",
       "      <td>CTHR</td>\n",
       "      <td>57427673</td>\n",
       "      <td>28042032</td>\n",
       "      <td>62323852</td>\n",
       "      <td>4500737</td>\n",
       "      <td>4896179</td>\n",
       "      <td>57427673</td>\n",
       "      <td>0</td>\n",
       "      <td>325867</td>\n",
       "      <td>...</td>\n",
       "      <td>19904170</td>\n",
       "      <td>-1.346450</td>\n",
       "      <td>3.114824</td>\n",
       "      <td>3.114824</td>\n",
       "      <td>6.230542</td>\n",
       "      <td>1.310891</td>\n",
       "      <td>-0.049508</td>\n",
       "      <td>0.085258</td>\n",
       "      <td>0.078372</td>\n",
       "      <td>0.000000</td>\n",
       "    </tr>\n",
       "    <tr>\n",
       "      <th>2014-12-31</th>\n",
       "      <td>2015-03-13</td>\n",
       "      <td>CTHR</td>\n",
       "      <td>46018173</td>\n",
       "      <td>23441083</td>\n",
       "      <td>51426397</td>\n",
       "      <td>4190663</td>\n",
       "      <td>5408224</td>\n",
       "      <td>46018173</td>\n",
       "      <td>0</td>\n",
       "      <td>216947</td>\n",
       "      <td>...</td>\n",
       "      <td>20295618</td>\n",
       "      <td>-13.485250</td>\n",
       "      <td>2.523178</td>\n",
       "      <td>2.523178</td>\n",
       "      <td>5.593645</td>\n",
       "      <td>1.310891</td>\n",
       "      <td>-0.495846</td>\n",
       "      <td>0.117524</td>\n",
       "      <td>0.091065</td>\n",
       "      <td>0.000000</td>\n",
       "    </tr>\n",
       "    <tr>\n",
       "      <th>2015-12-31</th>\n",
       "      <td>2016-03-08</td>\n",
       "      <td>CTHR</td>\n",
       "      <td>38388777</td>\n",
       "      <td>20650859</td>\n",
       "      <td>44140838</td>\n",
       "      <td>4621335</td>\n",
       "      <td>5752061</td>\n",
       "      <td>38388777</td>\n",
       "      <td>0</td>\n",
       "      <td>71086</td>\n",
       "      <td>...</td>\n",
       "      <td>20407764</td>\n",
       "      <td>-9.750873</td>\n",
       "      <td>2.159460</td>\n",
       "      <td>2.159460</td>\n",
       "      <td>4.468592</td>\n",
       "      <td>1.310891</td>\n",
       "      <td>-0.358535</td>\n",
       "      <td>0.149837</td>\n",
       "      <td>0.120382</td>\n",
       "      <td>0.000000</td>\n",
       "    </tr>\n",
       "    <tr>\n",
       "      <th>2016-12-31</th>\n",
       "      <td>2017-03-10</td>\n",
       "      <td>CTHR</td>\n",
       "      <td>34868621</td>\n",
       "      <td>20674188</td>\n",
       "      <td>40505776</td>\n",
       "      <td>4608256</td>\n",
       "      <td>5637155</td>\n",
       "      <td>34868621</td>\n",
       "      <td>0</td>\n",
       "      <td>8808</td>\n",
       "      <td>...</td>\n",
       "      <td>20926120</td>\n",
       "      <td>-4.564238</td>\n",
       "      <td>1.935235</td>\n",
       "      <td>1.935235</td>\n",
       "      <td>4.486337</td>\n",
       "      <td>1.310891</td>\n",
       "      <td>-0.167825</td>\n",
       "      <td>0.161668</td>\n",
       "      <td>0.132161</td>\n",
       "      <td>0.000000</td>\n",
       "    </tr>\n",
       "    <tr>\n",
       "      <th>2017-12-31</th>\n",
       "      <td>2018-03-09</td>\n",
       "      <td>CTHR</td>\n",
       "      <td>34858626</td>\n",
       "      <td>20149973</td>\n",
       "      <td>41230707</td>\n",
       "      <td>5446963</td>\n",
       "      <td>6372081</td>\n",
       "      <td>34858626</td>\n",
       "      <td>0</td>\n",
       "      <td>8597</td>\n",
       "      <td>...</td>\n",
       "      <td>21193793</td>\n",
       "      <td>-0.443976</td>\n",
       "      <td>1.945009</td>\n",
       "      <td>1.945009</td>\n",
       "      <td>3.699304</td>\n",
       "      <td>1.310891</td>\n",
       "      <td>-0.016325</td>\n",
       "      <td>0.182798</td>\n",
       "      <td>0.156259</td>\n",
       "      <td>0.000000</td>\n",
       "    </tr>\n",
       "    <tr>\n",
       "      <th>2019-06-30</th>\n",
       "      <td>2019-09-06</td>\n",
       "      <td>CTHR</td>\n",
       "      <td>45719024</td>\n",
       "      <td>27868367</td>\n",
       "      <td>51146381</td>\n",
       "      <td>4697780</td>\n",
       "      <td>5427357</td>\n",
       "      <td>45719024</td>\n",
       "      <td>0</td>\n",
       "      <td>97373</td>\n",
       "      <td>...</td>\n",
       "      <td>22111223</td>\n",
       "      <td>2.074654</td>\n",
       "      <td>2.308737</td>\n",
       "      <td>2.308737</td>\n",
       "      <td>5.932242</td>\n",
       "      <td>1.310891</td>\n",
       "      <td>0.076284</td>\n",
       "      <td>0.118711</td>\n",
       "      <td>0.102753</td>\n",
       "      <td>0.000000</td>\n",
       "    </tr>\n",
       "    <tr>\n",
       "      <th>2020-06-30</th>\n",
       "      <td>2020-09-04</td>\n",
       "      <td>CTHR</td>\n",
       "      <td>41435577</td>\n",
       "      <td>23909069</td>\n",
       "      <td>48904587</td>\n",
       "      <td>6486060</td>\n",
       "      <td>7469010</td>\n",
       "      <td>41435577</td>\n",
       "      <td>1790496</td>\n",
       "      <td>170151</td>\n",
       "      <td>...</td>\n",
       "      <td>28644133</td>\n",
       "      <td>-4.564238</td>\n",
       "      <td>1.701376</td>\n",
       "      <td>1.701376</td>\n",
       "      <td>3.686224</td>\n",
       "      <td>1.310891</td>\n",
       "      <td>-0.167825</td>\n",
       "      <td>0.180256</td>\n",
       "      <td>0.156534</td>\n",
       "      <td>0.043212</td>\n",
       "    </tr>\n",
       "    <tr>\n",
       "      <th>2021-06-30</th>\n",
       "      <td>2021-09-03</td>\n",
       "      <td>CTHR</td>\n",
       "      <td>55689016</td>\n",
       "      <td>35761231</td>\n",
       "      <td>64921999</td>\n",
       "      <td>5622263</td>\n",
       "      <td>9232983</td>\n",
       "      <td>55689016</td>\n",
       "      <td>4166925</td>\n",
       "      <td>209658</td>\n",
       "      <td>...</td>\n",
       "      <td>30232567</td>\n",
       "      <td>9.128477</td>\n",
       "      <td>2.140484</td>\n",
       "      <td>2.140484</td>\n",
       "      <td>6.360647</td>\n",
       "      <td>1.310891</td>\n",
       "      <td>0.335650</td>\n",
       "      <td>0.165795</td>\n",
       "      <td>0.100958</td>\n",
       "      <td>0.074825</td>\n",
       "    </tr>\n",
       "    <tr>\n",
       "      <th>2022-06-30</th>\n",
       "      <td>2022-09-02</td>\n",
       "      <td>CTHR</td>\n",
       "      <td>59557767</td>\n",
       "      <td>35864444</td>\n",
       "      <td>69208855</td>\n",
       "      <td>6804283</td>\n",
       "      <td>9651088</td>\n",
       "      <td>59557767</td>\n",
       "      <td>3703376</td>\n",
       "      <td>265730</td>\n",
       "      <td>...</td>\n",
       "      <td>31316028</td>\n",
       "      <td>1.659723</td>\n",
       "      <td>2.201528</td>\n",
       "      <td>2.201528</td>\n",
       "      <td>5.270863</td>\n",
       "      <td>1.310891</td>\n",
       "      <td>0.061027</td>\n",
       "      <td>0.162046</td>\n",
       "      <td>0.114247</td>\n",
       "      <td>0.062181</td>\n",
       "    </tr>\n",
       "  </tbody>\n",
       "</table>\n",
       "<p>10 rows × 24 columns</p>\n",
       "</div>"
      ],
      "text/plain": [
       "           fillingDate symbol  totalEquity  totalCurrentAssets  totalAssets  \\\n",
       "date                                                                          \n",
       "2012-12-31  2013-03-29   CTHR     56677176            30751615     59972414   \n",
       "2013-12-31  2014-03-27   CTHR     57427673            28042032     62323852   \n",
       "2014-12-31  2015-03-13   CTHR     46018173            23441083     51426397   \n",
       "2015-12-31  2016-03-08   CTHR     38388777            20650859     44140838   \n",
       "2016-12-31  2017-03-10   CTHR     34868621            20674188     40505776   \n",
       "2017-12-31  2018-03-09   CTHR     34858626            20149973     41230707   \n",
       "2019-06-30  2019-09-06   CTHR     45719024            27868367     51146381   \n",
       "2020-06-30  2020-09-04   CTHR     41435577            23909069     48904587   \n",
       "2021-06-30  2021-09-03   CTHR     55689016            35761231     64921999   \n",
       "2022-06-30  2022-09-02   CTHR     59557767            35864444     69208855   \n",
       "\n",
       "            totalCurrentLiabilities  totalLiabilities  \\\n",
       "date                                                    \n",
       "2012-12-31                  2887107           3295238   \n",
       "2013-12-31                  4500737           4896179   \n",
       "2014-12-31                  4190663           5408224   \n",
       "2015-12-31                  4621335           5752061   \n",
       "2016-12-31                  4608256           5637155   \n",
       "2017-12-31                  5446963           6372081   \n",
       "2019-06-30                  4697780           5427357   \n",
       "2020-06-30                  6486060           7469010   \n",
       "2021-06-30                  5622263           9232983   \n",
       "2022-06-30                  6804283           9651088   \n",
       "\n",
       "            totalStockholdersEquity  totalDebt  goodwillAndIntangibleAssets  \\\n",
       "date                                                                          \n",
       "2012-12-31                 56677176          0                       346732   \n",
       "2013-12-31                 57427673          0                       325867   \n",
       "2014-12-31                 46018173          0                       216947   \n",
       "2015-12-31                 38388777          0                        71086   \n",
       "2016-12-31                 34868621          0                         8808   \n",
       "2017-12-31                 34858626          0                         8597   \n",
       "2019-06-30                 45719024          0                        97373   \n",
       "2020-06-30                 41435577    1790496                       170151   \n",
       "2021-06-30                 55689016    4166925                       209658   \n",
       "2022-06-30                 59557767    3703376                       265730   \n",
       "\n",
       "            ...  weightedAverageShsOutDil      pfvps tangible_book_value_ps  \\\n",
       "date        ...                                                               \n",
       "2012-12-31  ...                  19967271   4.771704               2.986171   \n",
       "2013-12-31  ...                  19904170  -1.346450               3.114824   \n",
       "2014-12-31  ...                  20295618 -13.485250               2.523178   \n",
       "2015-12-31  ...                  20407764  -9.750873               2.159460   \n",
       "2016-12-31  ...                  20926120  -4.564238               1.935235   \n",
       "2017-12-31  ...                  21193793  -0.443976               1.945009   \n",
       "2019-06-30  ...                  22111223   2.074654               2.308737   \n",
       "2020-06-30  ...                  28644133  -4.564238               1.701376   \n",
       "2021-06-30  ...                  30232567   9.128477               2.140484   \n",
       "2022-06-30  ...                  31316028   1.659723               2.201528   \n",
       "\n",
       "            dct_tangible_book_value_ps  current_ratio  reporting_date_price  \\\n",
       "date                                                                          \n",
       "2012-12-31                    2.986171      10.651359              1.310891   \n",
       "2013-12-31                    3.114824       6.230542              1.310891   \n",
       "2014-12-31                    2.523178       5.593645              1.310891   \n",
       "2015-12-31                    2.159460       4.468592              1.310891   \n",
       "2016-12-31                    1.935235       4.486337              1.310891   \n",
       "2017-12-31                    1.945009       3.699304              1.310891   \n",
       "2019-06-30                    2.308737       5.932242              1.310891   \n",
       "2020-06-30                    1.701376       3.686224              1.310891   \n",
       "2021-06-30                    2.140484       6.360647              1.310891   \n",
       "2022-06-30                    2.201528       5.270863              1.310891   \n",
       "\n",
       "            pe_ratio  de_ratio1  de_ratio2  de_ratio3  \n",
       "date                                                   \n",
       "2012-12-31  0.175453   0.058140   0.050939   0.000000  \n",
       "2013-12-31 -0.049508   0.085258   0.078372   0.000000  \n",
       "2014-12-31 -0.495846   0.117524   0.091065   0.000000  \n",
       "2015-12-31 -0.358535   0.149837   0.120382   0.000000  \n",
       "2016-12-31 -0.167825   0.161668   0.132161   0.000000  \n",
       "2017-12-31 -0.016325   0.182798   0.156259   0.000000  \n",
       "2019-06-30  0.076284   0.118711   0.102753   0.000000  \n",
       "2020-06-30 -0.167825   0.180256   0.156534   0.043212  \n",
       "2021-06-30  0.335650   0.165795   0.100958   0.074825  \n",
       "2022-06-30  0.061027   0.162046   0.114247   0.062181  \n",
       "\n",
       "[10 rows x 24 columns]"
      ]
     },
     "execution_count": 117,
     "metadata": {},
     "output_type": "execute_result"
    }
   ],
   "source": [
    "fs_df"
   ]
  },
  {
   "cell_type": "code",
   "execution_count": 119,
   "id": "63f14f21-f104-40d2-9d7c-1a9faafa5a80",
   "metadata": {},
   "outputs": [
    {
     "data": {
      "text/plain": [
       "0.9958338"
      ]
     },
     "execution_count": 119,
     "metadata": {},
     "output_type": "execute_result"
    }
   ],
   "source": [
    "1.659723 * 0.6"
   ]
  },
  {
   "cell_type": "code",
   "execution_count": 128,
   "id": "446e7e6e-0183-4058-8f06-59590fd7fc3b",
   "metadata": {},
   "outputs": [
    {
     "data": {
      "text/plain": [
       "0.054473261882379526"
      ]
     },
     "execution_count": 128,
     "metadata": {},
     "output_type": "execute_result"
    }
   ],
   "source": [
    "np.nanmean(compute_historical_growth(fs_df[\"weightedAverageShsOutDil\"].values))"
   ]
  },
  {
   "cell_type": "markdown",
   "id": "8797ba95-9122-49f5-865e-71ac9c5e269a",
   "metadata": {},
   "source": [
    "TODO :\n",
    "\n",
    "* The growth in equity is computed with growth and not with equity_growth (though it sounds stupid I just did that)\n",
    "* To filter out companies from the first list I can use negative equity and price > pfv"
   ]
  }
 ],
 "metadata": {
  "kernelspec": {
   "display_name": "value_investment",
   "language": "python",
   "name": "value_investment"
  },
  "language_info": {
   "codemirror_mode": {
    "name": "ipython",
    "version": 3
   },
   "file_extension": ".py",
   "mimetype": "text/x-python",
   "name": "python",
   "nbconvert_exporter": "python",
   "pygments_lexer": "ipython3",
   "version": "3.10.12"
  }
 },
 "nbformat": 4,
 "nbformat_minor": 5
}
