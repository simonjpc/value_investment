{
 "cells": [
  {
   "cell_type": "code",
   "execution_count": 2,
   "id": "c65814bb-5a1b-4e1b-90fb-80e721073daf",
   "metadata": {},
   "outputs": [],
   "source": [
    "import psycopg2"
   ]
  },
  {
   "cell_type": "code",
   "execution_count": 3,
   "id": "27d7eb7e-9fe3-4b63-8d13-db67758563ba",
   "metadata": {},
   "outputs": [],
   "source": [
    "HOST = \"\"\n",
    "DB_NAME = \"\"\n",
    "USER_NAME = \"\"\n",
    "PWD = \"\"\n",
    "PORT = \"\""
   ]
  },
  {
   "cell_type": "code",
   "execution_count": 4,
   "id": "ca2d8e10-285b-4e6e-84d9-b69aa9346f22",
   "metadata": {},
   "outputs": [],
   "source": [
    "# Connect to the PostgreSQL server\n",
    "conn = psycopg2.connect(\n",
    "    host=HOST,  # Your PostgreSQL server host\n",
    "    database=DB_NAME,  # Replace with your database name\n",
    "    user=USER_NAME,    # The PostgreSQL superuser\n",
    "    password=PWD,  # The password for the PostgreSQL superuser\n",
    "    port=PORT,\n",
    ")\n",
    "\n",
    "# Create a cursor\n",
    "cursor = conn.cursor()"
   ]
  },
  {
   "cell_type": "code",
   "execution_count": 5,
   "id": "f490c72d-e1c2-4a66-be2f-44048eb41060",
   "metadata": {},
   "outputs": [
    {
     "data": {
      "text/plain": [
       "psycopg2.extensions.connection"
      ]
     },
     "execution_count": 5,
     "metadata": {},
     "output_type": "execute_result"
    }
   ],
   "source": [
    "type(conn)"
   ]
  },
  {
   "cell_type": "code",
   "execution_count": 6,
   "id": "820eaca2-e6e3-4d83-b605-fbefc1f73db3",
   "metadata": {},
   "outputs": [
    {
     "ename": "UndefinedTable",
     "evalue": "relation \"users\" does not exist\nLINE 1: SELECT * FROM users;\n                      ^\n",
     "output_type": "error",
     "traceback": [
      "\u001b[0;31m---------------------------------------------------------------------------\u001b[0m",
      "\u001b[0;31mUndefinedTable\u001b[0m                            Traceback (most recent call last)",
      "Cell \u001b[0;32mIn[6], line 3\u001b[0m\n\u001b[1;32m      1\u001b[0m \u001b[38;5;66;03m# Execute a SELECT query\u001b[39;00m\n\u001b[1;32m      2\u001b[0m select_query \u001b[38;5;241m=\u001b[39m \u001b[38;5;124m\"\u001b[39m\u001b[38;5;124mSELECT * FROM users;\u001b[39m\u001b[38;5;124m\"\u001b[39m\n\u001b[0;32m----> 3\u001b[0m \u001b[43mcursor\u001b[49m\u001b[38;5;241;43m.\u001b[39;49m\u001b[43mexecute\u001b[49m\u001b[43m(\u001b[49m\u001b[43mselect_query\u001b[49m\u001b[43m)\u001b[49m\n",
      "\u001b[0;31mUndefinedTable\u001b[0m: relation \"users\" does not exist\nLINE 1: SELECT * FROM users;\n                      ^\n"
     ]
    }
   ],
   "source": [
    "# Execute a SELECT query\n",
    "select_query = \"SELECT * FROM users;\"\n",
    "cursor.execute(select_query)"
   ]
  },
  {
   "cell_type": "code",
   "execution_count": 19,
   "id": "cd8ff1d4-69f3-4543-8334-ebdc185ba511",
   "metadata": {},
   "outputs": [],
   "source": [
    "results = cursor.fetchall()"
   ]
  },
  {
   "cell_type": "code",
   "execution_count": 20,
   "id": "aef5a3c2-32bc-44fa-a035-39f6ca0b9daa",
   "metadata": {},
   "outputs": [
    {
     "data": {
      "text/plain": [
       "[(1, 'john_doe', 'john@example.com'), (2, 'jane_doe', 'jane@example.com')]"
      ]
     },
     "execution_count": 20,
     "metadata": {},
     "output_type": "execute_result"
    }
   ],
   "source": [
    "results"
   ]
  },
  {
   "cell_type": "code",
   "execution_count": 21,
   "id": "2c9885db-0d69-4739-8d73-4df230c1a276",
   "metadata": {},
   "outputs": [
    {
     "name": "stdout",
     "output_type": "stream",
     "text": [
      "user_id: 1\n",
      "username: john_doe\n",
      "email: john@example.com\n",
      "user_id: 2\n",
      "username: jane_doe\n",
      "email: jane@example.com\n"
     ]
    }
   ],
   "source": [
    "for row in results:\n",
    "    print(\"user_id:\", row[0])\n",
    "    print(\"username:\", row[1])\n",
    "    print(\"email:\", row[2])"
   ]
  },
  {
   "cell_type": "code",
   "execution_count": 22,
   "id": "0209a225-993e-4fc8-9feb-084947702e25",
   "metadata": {},
   "outputs": [],
   "source": [
    "# Close the cursor and connection\n",
    "cursor.close()\n",
    "conn.close()"
   ]
  },
  {
   "cell_type": "code",
   "execution_count": null,
   "id": "2fce45f1-ffca-4328-851a-8150944a8ea1",
   "metadata": {},
   "outputs": [],
   "source": []
  }
 ],
 "metadata": {
  "kernelspec": {
   "display_name": "investment-env",
   "language": "python",
   "name": "python3"
  },
  "language_info": {
   "codemirror_mode": {
    "name": "ipython",
    "version": 3
   },
   "file_extension": ".py",
   "mimetype": "text/x-python",
   "name": "python",
   "nbconvert_exporter": "python",
   "pygments_lexer": "ipython3",
   "version": "3.10.11"
  }
 },
 "nbformat": 4,
 "nbformat_minor": 5
}
