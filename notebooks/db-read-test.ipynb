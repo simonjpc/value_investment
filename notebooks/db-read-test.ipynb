{
 "cells": [
  {
   "cell_type": "code",
   "execution_count": 1,
   "id": "c65814bb-5a1b-4e1b-90fb-80e721073daf",
   "metadata": {},
   "outputs": [],
   "source": [
    "import psycopg2"
   ]
  },
  {
   "cell_type": "code",
   "execution_count": 5,
   "id": "ca2d8e10-285b-4e6e-84d9-b69aa9346f22",
   "metadata": {},
   "outputs": [],
   "source": [
    "# Connect to the PostgreSQL server\n",
    "conn = psycopg2.connect(\n",
    "    host=\"localhost\",  # Your PostgreSQL server host\n",
    "    database={DB_NAME},  # Replace with your database name\n",
    "    user={USER_NAME},    # The PostgreSQL superuser\n",
    "    password={PWD},  # The password for the PostgreSQL superuser\n",
    "    port={PORT},\n",
    ")\n",
    "\n",
    "# Create a cursor\n",
    "cursor = conn.cursor()"
   ]
  },
  {
   "cell_type": "code",
   "execution_count": 6,
   "id": "820eaca2-e6e3-4d83-b605-fbefc1f73db3",
   "metadata": {},
   "outputs": [],
   "source": [
    "# Execute a SELECT query\n",
    "select_query = \"SELECT * FROM users;\"\n",
    "cursor.execute(select_query)"
   ]
  },
  {
   "cell_type": "code",
   "execution_count": 7,
   "id": "cd8ff1d4-69f3-4543-8334-ebdc185ba511",
   "metadata": {},
   "outputs": [],
   "source": [
    "results = cursor.fetchall()"
   ]
  },
  {
   "cell_type": "code",
   "execution_count": 8,
   "id": "aef5a3c2-32bc-44fa-a035-39f6ca0b9daa",
   "metadata": {},
   "outputs": [
    {
     "data": {
      "text/plain": [
       "[(1, 'john_doe', 'john@example.com'), (2, 'jane_doe', 'jane@example.com')]"
      ]
     },
     "execution_count": 8,
     "metadata": {},
     "output_type": "execute_result"
    }
   ],
   "source": [
    "results"
   ]
  },
  {
   "cell_type": "code",
   "execution_count": 9,
   "id": "2c9885db-0d69-4739-8d73-4df230c1a276",
   "metadata": {},
   "outputs": [
    {
     "name": "stdout",
     "output_type": "stream",
     "text": [
      "user_id: 1\n",
      "username: john_doe\n",
      "email: john@example.com\n",
      "user_id: 2\n",
      "username: jane_doe\n",
      "email: jane@example.com\n"
     ]
    }
   ],
   "source": [
    "for row in results:\n",
    "    print(\"user_id:\", row[0])\n",
    "    print(\"username:\", row[1])\n",
    "    print(\"email:\", row[2])"
   ]
  },
  {
   "cell_type": "code",
   "execution_count": 10,
   "id": "0209a225-993e-4fc8-9feb-084947702e25",
   "metadata": {},
   "outputs": [],
   "source": [
    "# Close the cursor and connection\n",
    "cursor.close()\n",
    "conn.close()"
   ]
  },
  {
   "cell_type": "code",
   "execution_count": null,
   "id": "eeefa6e7-0416-48ee-bde3-06457d310020",
   "metadata": {},
   "outputs": [],
   "source": []
  }
 ],
 "metadata": {
  "kernelspec": {
   "display_name": "value_investment",
   "language": "python",
   "name": "value_investment"
  },
  "language_info": {
   "codemirror_mode": {
    "name": "ipython",
    "version": 3
   },
   "file_extension": ".py",
   "mimetype": "text/x-python",
   "name": "python",
   "nbconvert_exporter": "python",
   "pygments_lexer": "ipython3",
   "version": "3.10.13"
  }
 },
 "nbformat": 4,
 "nbformat_minor": 5
}
