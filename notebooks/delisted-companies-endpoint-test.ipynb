{
 "cells": [
  {
   "cell_type": "code",
   "execution_count": 28,
   "id": "675584ad-4f3c-4d7e-819d-3b6d204051e3",
   "metadata": {},
   "outputs": [],
   "source": [
    "import time\n",
    "import requests\n",
    "from valuation.extraction import get_all_tickers_list, get_income_stmt_info\n",
    "from valuation.constants import API_BASE_PATH"
   ]
  },
  {
   "cell_type": "code",
   "execution_count": 2,
   "id": "15dac847-3a91-415e-a4f2-51f30c4540c3",
   "metadata": {},
   "outputs": [],
   "source": [
    "import os\n",
    "KEY = os.environ[\"VALUATION_KEY\"]"
   ]
  },
  {
   "cell_type": "code",
   "execution_count": 3,
   "id": "e109d93e-515b-4fa7-8b98-6958241ae5ad",
   "metadata": {},
   "outputs": [],
   "source": [
    "# stopwords\n",
    "FUNDS_STOPWORDS = [\"fund\", \"etf\", \"proshares\"]"
   ]
  },
  {
   "cell_type": "code",
   "execution_count": 6,
   "id": "c05d8f83-b02b-415d-acc0-671c75b43a78",
   "metadata": {},
   "outputs": [],
   "source": [
    "def get_all_delisted_companies():\n",
    "    all_delisted_companies = []\n",
    "    url_all_tickers = f\"{API_BASE_PATH}/delisted-companies\"\n",
    "    page_number = 0\n",
    "    while True:\n",
    "        # algorithm\n",
    "        params = {\n",
    "            \"page\": page_number,\n",
    "            \"apikey\": KEY,\n",
    "        }\n",
    "        try:\n",
    "            response = requests.get(url_all_tickers, params=params)\n",
    "            response.raise_for_status()\n",
    "            single_page_tickers = response.json()\n",
    "        except requests.exceptions.RequestException as e:\n",
    "            print(f\"Request error: {e}\")\n",
    "            single_page_tickers = []\n",
    "        except json.JSONDecodeError as e:\n",
    "            print(f\"JSON decoding error: {e}\")\n",
    "            single_page_tickers = []\n",
    "        all_delisted_companies.extend(single_page_tickers)\n",
    "        if len(single_page_tickers) != 100:\n",
    "            break\n",
    "        if page_number == 90:\n",
    "            time.sleep(61)\n",
    "        page_number += 1\n",
    "    return all_delisted_companies"
   ]
  },
  {
   "cell_type": "code",
   "execution_count": 7,
   "id": "cb3b9080-ff88-4714-b6a5-8b90b9b97b27",
   "metadata": {},
   "outputs": [],
   "source": [
    "all_delisted = get_all_delisted_companies()"
   ]
  },
  {
   "cell_type": "code",
   "execution_count": 8,
   "id": "5464f762-bafe-4925-b1b5-e1306f27bcbf",
   "metadata": {},
   "outputs": [
    {
     "data": {
      "text/plain": [
       "5826"
      ]
     },
     "execution_count": 8,
     "metadata": {},
     "output_type": "execute_result"
    }
   ],
   "source": [
    "len(all_delisted)"
   ]
  },
  {
   "cell_type": "code",
   "execution_count": 9,
   "id": "264337f8-dc4b-4228-b20c-d38e0e004c4b",
   "metadata": {},
   "outputs": [
    {
     "data": {
      "text/plain": [
       "{'symbol': 'EDUT',\n",
       " 'companyName': 'Global X Education ETF',\n",
       " 'exchange': 'NASDAQ',\n",
       " 'ipoDate': '2020-07-14',\n",
       " 'delistedDate': '2023-11-20'}"
      ]
     },
     "execution_count": 9,
     "metadata": {},
     "output_type": "execute_result"
    }
   ],
   "source": [
    "all_delisted[0]"
   ]
  },
  {
   "cell_type": "code",
   "execution_count": 19,
   "id": "337b5653-bd87-498c-8b54-22bda6a3464e",
   "metadata": {},
   "outputs": [],
   "source": [
    "filtered_companies = []\n",
    "for delisted in all_delisted:\n",
    "    if not any([stopword in delisted[\"companyName\"].lower() for stopword in FUNDS_STOPWORDS]):\n",
    "        filtered_companies.append(delisted)"
   ]
  },
  {
   "cell_type": "code",
   "execution_count": 20,
   "id": "8ce1807e-72ac-4c0e-819e-4be832b41356",
   "metadata": {},
   "outputs": [
    {
     "data": {
      "text/plain": [
       "4744"
      ]
     },
     "execution_count": 20,
     "metadata": {},
     "output_type": "execute_result"
    }
   ],
   "source": [
    "len(filtered_companies)"
   ]
  },
  {
   "cell_type": "code",
   "execution_count": 22,
   "id": "be18faad-2092-43bd-b5c2-e83585ff7800",
   "metadata": {},
   "outputs": [],
   "source": [
    "filtered_companies = [delisted for delisted in all_delisted if not any([stopword in delisted[\"companyName\"].lower() for stopword in FUNDS_STOPWORDS])]"
   ]
  },
  {
   "cell_type": "code",
   "execution_count": 23,
   "id": "d3c54e3b-9e51-450e-a804-5086690f4033",
   "metadata": {},
   "outputs": [
    {
     "data": {
      "text/plain": [
       "4744"
      ]
     },
     "execution_count": 23,
     "metadata": {},
     "output_type": "execute_result"
    }
   ],
   "source": [
    "len(filtered_companies)"
   ]
  },
  {
   "cell_type": "code",
   "execution_count": 26,
   "id": "0f29fad4-837f-4a5e-9dda-609145400ce3",
   "metadata": {},
   "outputs": [
    {
     "data": {
      "text/plain": [
       "[{'symbol': 'GNSM',\n",
       "  'companyName': 'GENSYM CORP',\n",
       "  'exchange': 'NASDAQ',\n",
       "  'ipoDate': '2007-07-13',\n",
       "  'delistedDate': '2007-10-25'},\n",
       " {'symbol': 'ARS',\n",
       "  'companyName': 'Aleris International Inc',\n",
       "  'exchange': 'NASDAQ',\n",
       "  'ipoDate': '2006-12-19',\n",
       "  'delistedDate': '2006-12-29'},\n",
       " {'symbol': 'FCKEE',\n",
       "  'companyName': 'FIRST CHEROKEE BANCSHARES INC',\n",
       "  'exchange': 'NASDAQ',\n",
       "  'ipoDate': '1997-04-01',\n",
       "  'delistedDate': '1997-04-01'}]"
      ]
     },
     "execution_count": 26,
     "metadata": {},
     "output_type": "execute_result"
    }
   ],
   "source": [
    "filtered_companies[-3:]"
   ]
  },
  {
   "cell_type": "code",
   "execution_count": 33,
   "id": "467eb90f-7d6f-4f71-887f-9781ff50ceb2",
   "metadata": {},
   "outputs": [],
   "source": [
    "stmt = get_income_stmt_info(ticker=\"EDUT\", period=\"quarter\")"
   ]
  },
  {
   "cell_type": "code",
   "execution_count": 34,
   "id": "3c766816-bf62-4b20-9156-430827b1af35",
   "metadata": {},
   "outputs": [
    {
     "data": {
      "text/plain": [
       "[]"
      ]
     },
     "execution_count": 34,
     "metadata": {},
     "output_type": "execute_result"
    }
   ],
   "source": [
    "stmt"
   ]
  },
  {
   "cell_type": "code",
   "execution_count": 32,
   "id": "c13d8c73-ad07-40fc-aaa3-848f473ce19f",
   "metadata": {},
   "outputs": [
    {
     "ename": "NameError",
     "evalue": "name 'response' is not defined",
     "output_type": "error",
     "traceback": [
      "\u001b[0;31m---------------------------------------------------------------------------\u001b[0m",
      "\u001b[0;31mNameError\u001b[0m                                 Traceback (most recent call last)",
      "Cell \u001b[0;32mIn[32], line 1\u001b[0m\n\u001b[0;32m----> 1\u001b[0m \u001b[43mresponse\u001b[49m\u001b[38;5;241m.\u001b[39murl\n",
      "\u001b[0;31mNameError\u001b[0m: name 'response' is not defined"
     ]
    }
   ],
   "source": []
  },
  {
   "cell_type": "code",
   "execution_count": null,
   "id": "7f5dad7b-42ee-463d-b0c2-f31858258308",
   "metadata": {},
   "outputs": [],
   "source": []
  }
 ],
 "metadata": {
  "kernelspec": {
   "display_name": "value_investment",
   "language": "python",
   "name": "value_investment"
  },
  "language_info": {
   "codemirror_mode": {
    "name": "ipython",
    "version": 3
   },
   "file_extension": ".py",
   "mimetype": "text/x-python",
   "name": "python",
   "nbconvert_exporter": "python",
   "pygments_lexer": "ipython3",
   "version": "3.10.13"
  }
 },
 "nbformat": 4,
 "nbformat_minor": 5
}
