{
 "cells": [
  {
   "cell_type": "markdown",
   "id": "eae74719-8efc-4a21-b4e3-109bacc16b7d",
   "metadata": {
    "tags": []
   },
   "source": [
    "## Below the steps to identify the most promising stocks using the EPS X appraoch\n",
    "\n",
    "1. have an excel file with all the tickers extracted from a filter on tradingview\n",
    "2. Compute the FP (see below) for all the companies\n",
    "3. Compute PFV (see below) for the all the companies\n",
    "4. Create a flag column \"below eps_pfv\" indicating whether the price is below pfv\n",
    "5. take the tickers respecting the condition 4 and create history plots\n",
    "6. select by hand the most promising stocks\n",
    "7. for the selected ones get the price to pfv ratio\n",
    "8. do an ascending sort of the stocks with the values computed in 7 and see the most promising tickers"
   ]
  },
  {
   "cell_type": "markdown",
   "id": "770ac477-e24d-4929-b554-911a0bfc0368",
   "metadata": {},
   "source": [
    "### Formula\n",
    "\n",
    "* $FP = EPS \\cdot (1 + Growth)^{Years} \\cdot PE$\n",
    "\n",
    "* $PFV = \\frac{FP}{(1 + Return)^{Years}}$\n",
    "\n",
    "In the equations : \n",
    "\n",
    "* `FP` means *Future Price* and refers to the price that the stock should have in the future\n",
    "* `PFV` mean *Present Fair Value* and refers to the price that the company should be trading today in the market\n",
    "* `EPS` refers to the EPS that we see of the company today (now, avg TTM, MRQ, etc)\n",
    "* `Growth` refers to what I think the company is going to grow in the following years\n",
    "* `Years` are the number of years to take into consideration when doing the calculation\n",
    "* `PE` refers to what I think is going to be the PE ratio after all the years considered. Thus, this is an estimated future PE ratio\n",
    "* `Return` refers to what I think is going to be the avg yearly return of the investment during all the years considered"
   ]
  },
  {
   "cell_type": "markdown",
   "id": "1d8e58f7-27b9-4a7e-992a-fc0b59a19c2c",
   "metadata": {},
   "source": [
    "### Imports"
   ]
  },
  {
   "cell_type": "code",
   "execution_count": 1,
   "id": "fd8b0391-c51a-4241-9353-f6ef45af6130",
   "metadata": {},
   "outputs": [],
   "source": [
    "import certifi\n",
    "import json\n",
    "import pandas as pd\n",
    "import numpy as np\n",
    "from tqdm import tqdm\n",
    "import time\n",
    "import matplotlib.pyplot as plt\n",
    "from urllib.request import urlopen\n",
    "from datetime import timedelta"
   ]
  },
  {
   "cell_type": "markdown",
   "id": "9cfe209a-316a-451c-9b6e-a68c82858997",
   "metadata": {},
   "source": [
    "### Functions"
   ]
  },
  {
   "cell_type": "code",
   "execution_count": 2,
   "id": "86d9d995-de23-46dc-9443-f00762b6a239",
   "metadata": {},
   "outputs": [],
   "source": [
    "def compute_fp(\n",
    "    eps:float,\n",
    "    growth_value: float,\n",
    "    years: int,\n",
    "    future_pe: float,\n",
    ") -> float:\n",
    "    capped_growth_value = min(0.40, growth_value)\n",
    "    capped_future_pe = min(20, future_pe)\n",
    "    return eps * ((1 + capped_growth_value) ** years) * capped_future_pe\n",
    "\n",
    "def compute_pfv(fp: float, return_value: float, years: int) -> float:\n",
    "    capped_return_value = min(0.20, return_value)\n",
    "    return fp / ((1 + capped_return_value) ** years)\n",
    "\n",
    "def compute_pex_value(\n",
    "    eps: float,\n",
    "    growth_value: float,\n",
    "    return_value: float,\n",
    "    future_pe: float,\n",
    "    years: int,\n",
    ") -> float:\n",
    "    fp = compute_fp(eps, growth_value, years, future_pe)\n",
    "    pfv = compute_pfv(fp, return_value, years)\n",
    "    return pfv"
   ]
  },
  {
   "cell_type": "markdown",
   "id": "988989bc-fd5c-4e1a-a330-49f42982c8f8",
   "metadata": {},
   "source": [
    "### Constants"
   ]
  },
  {
   "cell_type": "code",
   "execution_count": 3,
   "id": "34c8e481-fafa-4931-a1c4-b3fa3363ad26",
   "metadata": {},
   "outputs": [],
   "source": [
    "KEY_PATH = \"fmi-personal-key.txt\"\n",
    "with open(KEY_PATH, \"r\") as f:\n",
    "    KEY = f.read()"
   ]
  },
  {
   "cell_type": "code",
   "execution_count": 4,
   "id": "64a7e0f1-872e-4c07-8a38-0789f9a2e22e",
   "metadata": {},
   "outputs": [],
   "source": [
    "with open(\"tickers_list_28062023.txt\", \"r\") as f:\n",
    "    TICKERS = f.read().split(\"\\n\")"
   ]
  },
  {
   "cell_type": "code",
   "execution_count": 5,
   "id": "c62ebc5e-9d67-4470-8397-68a84410c85f",
   "metadata": {},
   "outputs": [],
   "source": [
    "TICKERS = list(set(TICKERS))"
   ]
  },
  {
   "cell_type": "code",
   "execution_count": 6,
   "id": "39444e50-5223-4895-a234-4c4537a7af8f",
   "metadata": {},
   "outputs": [
    {
     "data": {
      "text/plain": [
       "True"
      ]
     },
     "execution_count": 6,
     "metadata": {},
     "output_type": "execute_result"
    }
   ],
   "source": [
    "\"CTHR\" in TICKERS"
   ]
  },
  {
   "cell_type": "markdown",
   "id": "8d88db9c-2369-436d-b72d-8197f599aeb0",
   "metadata": {},
   "source": [
    "Example of EPS X calculation for CTHR\n",
    "\n",
    "There are 4 things that we need to decide to compute the value : \n",
    "\n",
    "* Return : I am going to use a standard of 20%\n",
    "* Growth : I am going to use the data of the last 10 years and the what has been the avg growth. I am going to try it with EPS and then see if it's possible to do it with equity\n",
    "* PE : The future PE ratio will be (10Y max - 10Ymin) / 2. I need to get the data from the last 10 years For the EPS it'll be straightforward, for the price I should match the eps of year X with the avg price of 3 months after the data of the report of year X\n",
    "* Years : Number of years to consider in the calculations. I will use 7 (in between 5 and 10) cuz 5 is too short and 10 is too long"
   ]
  },
  {
   "cell_type": "markdown",
   "id": "84425ce5-2a21-40fd-9005-6e4b7a507da4",
   "metadata": {},
   "source": [
    "#### Return value"
   ]
  },
  {
   "cell_type": "code",
   "execution_count": 7,
   "id": "c73dbdb6-34d8-4851-a4f9-2e62c841c381",
   "metadata": {},
   "outputs": [
    {
     "data": {
      "text/plain": [
       "0.2"
      ]
     },
     "execution_count": 7,
     "metadata": {},
     "output_type": "execute_result"
    }
   ],
   "source": [
    "return_value = 0.2\n",
    "return_value"
   ]
  },
  {
   "cell_type": "markdown",
   "id": "d67586a4-5b39-4710-a98c-3243c83664b4",
   "metadata": {},
   "source": [
    "#### Growth value"
   ]
  },
  {
   "cell_type": "code",
   "execution_count": 8,
   "id": "b9a4ea60-5f8b-448d-bbd0-f143f47eff4a",
   "metadata": {},
   "outputs": [
    {
     "name": "stderr",
     "output_type": "stream",
     "text": [
      "/var/folders/mr/pm_1h_jn1gs2n48rx1j1ygsr0000gn/T/ipykernel_9088/17637524.py:3: DeprecationWarning: cafile, capath and cadefault are deprecated, use a custom context instead.\n",
      "  response_income_stmt = urlopen(url_income_stmt, cafile=certifi.where())\n"
     ]
    }
   ],
   "source": [
    "ticker = \"CTHR\"\n",
    "url_income_stmt = f\"https://financialmodelingprep.com/api/v3/income-statement/{ticker}?limit=10&apikey={KEY}\"\n",
    "response_income_stmt = urlopen(url_income_stmt, cafile=certifi.where())\n",
    "data_income_stmt = response_income_stmt.read().decode(\"utf-8\")\n",
    "data_income_stmt = json.loads(data_income_stmt)"
   ]
  },
  {
   "cell_type": "code",
   "execution_count": 9,
   "id": "4046c16e-b8d0-4e72-94c7-277c5a8d20ab",
   "metadata": {},
   "outputs": [],
   "source": [
    "all_eps = [element[\"eps\"] for element in data_income_stmt]"
   ]
  },
  {
   "cell_type": "code",
   "execution_count": 10,
   "id": "3a20c3d8-fb35-45d8-8f41-ab3ec590c794",
   "metadata": {},
   "outputs": [
    {
     "data": {
      "text/plain": [
       "[0.08, 0.44, -0.22, 0.1, -0.0214, -0.22, -0.47, -0.65, -0.0649, 0.23]"
      ]
     },
     "execution_count": 10,
     "metadata": {},
     "output_type": "execute_result"
    }
   ],
   "source": [
    "all_eps"
   ]
  },
  {
   "cell_type": "code",
   "execution_count": 11,
   "id": "fe320c4c-8b7b-4d03-a70a-338b40003dd8",
   "metadata": {},
   "outputs": [],
   "source": [
    "all_growth = []\n",
    "for idx in range(1, len(all_eps)):\n",
    "    all_growth.append((all_eps[idx] - all_eps[idx-1]) / all_eps[idx-1])"
   ]
  },
  {
   "cell_type": "code",
   "execution_count": 12,
   "id": "0d2db0de-926e-4c22-b5c2-cec1b90db2de",
   "metadata": {},
   "outputs": [
    {
     "data": {
      "text/plain": [
       "[4.5,\n",
       " -1.5,\n",
       " -1.4545454545454546,\n",
       " -1.214,\n",
       " 9.280373831775702,\n",
       " 1.1363636363636362,\n",
       " 0.38297872340425543,\n",
       " -0.9001538461538462,\n",
       " -4.543913713405239]"
      ]
     },
     "execution_count": 12,
     "metadata": {},
     "output_type": "execute_result"
    }
   ],
   "source": [
    "all_growth"
   ]
  },
  {
   "cell_type": "code",
   "execution_count": 13,
   "id": "7b20d11e-a325-43e9-a6db-806d0b02482b",
   "metadata": {
    "collapsed": true,
    "jupyter": {
     "outputs_hidden": true
    },
    "tags": []
   },
   "outputs": [
    {
     "data": {
      "text/plain": [
       "0.5906466949726956"
      ]
     },
     "execution_count": 13,
     "metadata": {},
     "output_type": "execute_result"
    }
   ],
   "source": [
    "# Cap the extreme growth rates for a more conservative approach\n",
    "# Not the extrem drops since it'll help put numbers down\n",
    "q1 = np.quantile(all_growth, 0.25)\n",
    "q3 = np.quantile(all_growth, 0.75)\n",
    "iqr = q3 - q1\n",
    "lower_bound = q1 - 3*iqr\n",
    "upper_bound = q3 + 3*iqr\n",
    "\n",
    "all_growth_wo_extremes = [min(element, upper_bound) for element in all_growth]# if lower_bound < element < upper_bound]"
   ]
  },
  {
   "cell_type": "code",
   "execution_count": 14,
   "id": "9e3ceba6-36cd-4181-821f-2fe9e3cae1d0",
   "metadata": {},
   "outputs": [],
   "source": [
    "growth_value = np.mean(all_growth_wo_extremes)#np.mean(all_growth)"
   ]
  },
  {
   "cell_type": "code",
   "execution_count": 15,
   "id": "3a34c220-e578-4c31-ba6f-2191a88b9660",
   "metadata": {},
   "outputs": [
    {
     "data": {
      "text/plain": [
       "0.5906466949726956"
      ]
     },
     "execution_count": 15,
     "metadata": {},
     "output_type": "execute_result"
    }
   ],
   "source": [
    "growth_value"
   ]
  },
  {
   "cell_type": "markdown",
   "id": "629d94be-30bb-416a-bb5f-b8da2cf6733a",
   "metadata": {},
   "source": [
    "#### Future PE"
   ]
  },
  {
   "cell_type": "code",
   "execution_count": 16,
   "id": "d86f884a-9c3b-4554-b0ce-41c90f3820db",
   "metadata": {},
   "outputs": [
    {
     "name": "stderr",
     "output_type": "stream",
     "text": [
      "/var/folders/mr/pm_1h_jn1gs2n48rx1j1ygsr0000gn/T/ipykernel_9088/3319864374.py:10: DeprecationWarning: cafile, capath and cadefault are deprecated, use a custom context instead.\n",
      "  response_prices = urlopen(url_prices, cafile=certifi.where())\n"
     ]
    }
   ],
   "source": [
    "# The reporting of a period is expected between 30 - 45 days after the ending of that period\n",
    "all_prices = []\n",
    "for single_income_stmt in data_income_stmt[::-1]:\n",
    "    reporting_window_start = pd.to_datetime(single_income_stmt[\"date\"]) + pd.DateOffset(days=30)\n",
    "    reporting_window_start = str(reporting_window_start.date())\n",
    "    reporting_window_end = pd.to_datetime(single_income_stmt[\"date\"]) + pd.DateOffset(days=46)\n",
    "    reporting_window_end = str(reporting_window_end.date())\n",
    "    \n",
    "    url_prices =  f\"https://financialmodelingprep.com/api/v3/historical-price-full/{ticker}?from={reporting_window_start}&to={reporting_window_end}&apikey={KEY}\"\n",
    "    response_prices = urlopen(url_prices, cafile=certifi.where())\n",
    "    data_prices = response_prices.read().decode(\"utf-8\")\n",
    "    data_prices = json.loads(data_prices)\n",
    "    \n",
    "    price_at_report = np.mean([element[\"low\"] for element in data_prices[\"historical\"]])\n",
    "    \n",
    "    all_prices.append(price_at_report)"
   ]
  },
  {
   "cell_type": "code",
   "execution_count": 17,
   "id": "16ebc1f2-658c-4537-8e73-0c85a29a55d4",
   "metadata": {},
   "outputs": [
    {
     "data": {
      "text/plain": [
       "[3.7731538461538467,\n",
       " 4.059833333333333,\n",
       " 1.6518181818181816,\n",
       " 0.8430099999999999,\n",
       " 0.9940923076923075,\n",
       " 1.3241153846153846,\n",
       " 1.430392307692308,\n",
       " 0.6971416666666667,\n",
       " 2.601818181818182,\n",
       " 1.3108909090909093]"
      ]
     },
     "execution_count": 17,
     "metadata": {},
     "output_type": "execute_result"
    }
   ],
   "source": [
    "all_prices"
   ]
  },
  {
   "cell_type": "code",
   "execution_count": 18,
   "id": "3fcb6136-04af-4641-a0f9-516ed3829c30",
   "metadata": {},
   "outputs": [
    {
     "data": {
      "text/plain": [
       "[47.164423076923086,\n",
       " 9.226893939393937,\n",
       " 0,\n",
       " 8.4301,\n",
       " 0,\n",
       " 0,\n",
       " 0,\n",
       " 0,\n",
       " 0,\n",
       " 5.6995256916996055]"
      ]
     },
     "execution_count": 18,
     "metadata": {},
     "output_type": "execute_result"
    }
   ],
   "source": [
    "# I don't like a pe of zero cuz we mask very big drops that could hide info\n",
    "historical_pe = list(np.array(all_prices) / np.array(all_eps))\n",
    "historical_pe = [val if val > 0 else 0 for val in historical_pe]\n",
    "historical_pe"
   ]
  },
  {
   "cell_type": "code",
   "execution_count": 19,
   "id": "12825898-8791-42b5-8c46-95a99d52d602",
   "metadata": {},
   "outputs": [],
   "source": [
    "future_pe = np.mean(historical_pe)"
   ]
  },
  {
   "cell_type": "code",
   "execution_count": 20,
   "id": "2bf8e9d9-ab29-475a-84eb-f9d74c036590",
   "metadata": {},
   "outputs": [
    {
     "data": {
      "text/plain": [
       "7.052094270801663"
      ]
     },
     "execution_count": 20,
     "metadata": {},
     "output_type": "execute_result"
    }
   ],
   "source": [
    "future_pe"
   ]
  },
  {
   "cell_type": "markdown",
   "id": "2b8126e2-6382-4f50-89dc-f7c134866982",
   "metadata": {},
   "source": [
    "#### Years"
   ]
  },
  {
   "cell_type": "code",
   "execution_count": 21,
   "id": "4b684a75-1b47-4da2-be01-7dfd6d895e7a",
   "metadata": {},
   "outputs": [],
   "source": [
    "years = 7"
   ]
  },
  {
   "cell_type": "markdown",
   "id": "495e127b-2514-43da-b3c3-dee7871f427b",
   "metadata": {},
   "source": [
    "#### Calculations\n",
    "\n",
    "Reminder:\n",
    "\n",
    "* $FP = EPS \\cdot (1 + Growth)^{Years} \\cdot PE$\n",
    "\n",
    "* $PFV = \\frac{FP}{(1 + Return)^{Years}}$"
   ]
  },
  {
   "cell_type": "code",
   "execution_count": 27,
   "id": "4261f2d4-a5e2-4302-9713-be2e29ad4c66",
   "metadata": {},
   "outputs": [],
   "source": [
    "eps = all_eps[0] # latest yearly EPS\n",
    "\n",
    "fp = eps * ((1 + growth_value) ** years) * future_pe\n",
    "pfv = fp / ((1 + return_value) ** years)"
   ]
  },
  {
   "cell_type": "code",
   "execution_count": 28,
   "id": "2bbe60c9-0204-4fad-979a-d73d3874cd2e",
   "metadata": {},
   "outputs": [
    {
     "name": "stdout",
     "output_type": "stream",
     "text": [
      "Present Faire Value:   4.06\n",
      "Buying Price:          2.03\n"
     ]
    }
   ],
   "source": [
    "buy_price = pfv * 0.5\n",
    "print(f\"Present Faire Value:   {round(pfv, 2)}\")\n",
    "print(f\"Buying Price:          {round(buy_price, 2)}\")"
   ]
  },
  {
   "cell_type": "markdown",
   "id": "2f6eb720-9111-4d60-9ac8-e47accc6a51c",
   "metadata": {},
   "source": [
    "**NOTES** : \n",
    "\n",
    "* The higher the future PE ratio the higher the present faire value. -> Choose a conservative PE ratio\n",
    "* The higher the number of years the higher the present faire value (assuming the same number of years considered for both future price and present faire value). -> Choose a mid-term horizon\n",
    "* For a fixed rate of return (return_value), the greater the growth_value the greater the present faire value. -> Choose a conservative growth value\n",
    "* For a fixed growth_value, the greater the rate of return the lower the present faire value. -> Choose a slightly high rate of return"
   ]
  },
  {
   "cell_type": "code",
   "execution_count": 31,
   "id": "dc1ea9bf-6efe-4455-87aa-13711c921bca",
   "metadata": {},
   "outputs": [],
   "source": [
    "pfv_conservative = compute_pex_value(eps, growth_value, return_value, future_pe, years)"
   ]
  },
  {
   "cell_type": "code",
   "execution_count": 32,
   "id": "f3e5fe05-606b-4443-9762-718075a32ede",
   "metadata": {},
   "outputs": [
    {
     "name": "stdout",
     "output_type": "stream",
     "text": [
      "Present Faire Value:   1.66\n",
      "Buying Price:          0.83\n"
     ]
    }
   ],
   "source": [
    "buy_price_conservative = pfv_conservative * 0.5\n",
    "print(f\"Present Faire Value:   {round(pfv_conservative, 2)}\")\n",
    "print(f\"Buying Price:          {round(buy_price_conservative, 2)}\")"
   ]
  },
  {
   "cell_type": "code",
   "execution_count": 168,
   "id": "074acd9e-4afb-447f-a8c7-af30261a4ecd",
   "metadata": {},
   "outputs": [],
   "source": []
  },
  {
   "cell_type": "code",
   "execution_count": null,
   "id": "5c7724b1-de00-44c7-9d41-085caa53d686",
   "metadata": {},
   "outputs": [],
   "source": []
  }
 ],
 "metadata": {
  "kernelspec": {
   "display_name": "value_investment",
   "language": "python",
   "name": "value_investment"
  },
  "language_info": {
   "codemirror_mode": {
    "name": "ipython",
    "version": 3
   },
   "file_extension": ".py",
   "mimetype": "text/x-python",
   "name": "python",
   "nbconvert_exporter": "python",
   "pygments_lexer": "ipython3",
   "version": "3.10.12"
  }
 },
 "nbformat": 4,
 "nbformat_minor": 5
}
